{
 "cells": [
  {
   "cell_type": "markdown",
   "metadata": {},
   "source": [
    "This script generates quantum circuit for a two-body time-evolution operator under a Hamiltonian $$ H = \\sum_{i<j}^{N} J_{ij} \\vec{\\sigma_i} \\cdot \\vec{\\sigma_j}, $$  where the coupling constant of the pair interaction given by $ J_{ij} \\equiv \\mu/N * (1-cos(\\theta_{ij})) $ and $ \\vec{\\sigma_i} $ are the Pauli matrices for the i-th qubit. The operator $ u_{ij}(dt) $ is the time-evolution operator for time dt. The two-body part of the propagator, as approximated in Eq. (17) of the paper, is the product of pair terms of the form\n",
    "\n",
    "$$\n",
    "u_{ij}(dt) = e^{-idtJ_{ij}(X \\otimes X + Y \\otimes Y + Z \\otimes Z)}. \\tag{1.1}\n",
    "$$\n",
    "\n",
    "\n",
    "We recall the Matrix Representations:\n",
    "\n",
    "$$\n",
    "R_{ZZ}(\\theta) = \\exp\\left(-i \\frac{\\theta}{2} Z \\otimes Z\\right) = \\begin{pmatrix}\n",
    "e^{-i\\theta/2} & 0 & 0 & 0 \\\\\n",
    "0 & e^{i\\theta/2} & 0 & 0 \\\\\n",
    "0 & 0 & e^{i\\theta/2} & 0 \\\\\n",
    "0 & 0 & 0 & e^{-i\\theta/2}\n",
    "\\end{pmatrix}\n",
    "$$\n",
    "\n",
    "$$\n",
    "R_{YY}(\\theta) = \\exp\\left(-\\frac{i\\theta}{2} Y \\otimes Y\\right) = \\begin{pmatrix}\n",
    "\\cos\\left(\\frac{\\theta}{2}\\right) & 0 & 0 & i\\sin\\left(\\frac{\\theta}{2}\\right) \\\\\n",
    "0 & \\cos\\left(\\frac{\\theta}{2}\\right) & -i\\sin\\left(\\frac{\\theta}{2}\\right) & 0 \\\\\n",
    "0 & -i\\sin\\left(\\frac{\\theta}{2}\\right) & \\cos\\left(\\frac{\\theta}{2}\\right) & 0 \\\\\n",
    "i\\sin\\left(\\frac{\\theta}{2}\\right) & 0 & 0 & \\cos\\left(\\frac{\\theta}{2}\\right)\n",
    "\\end{pmatrix}\n",
    "$$\n",
    "\n",
    "$$\n",
    "R_{XX}(\\theta) = \\exp\\left(-\\frac{i\\theta}{2} X \\otimes X\\right) = \\begin{pmatrix}\n",
    "\\cos\\left(\\frac{\\theta}{2}\\right) & 0 & 0 & -i\\sin\\left(\\frac{\\theta}{2}\\right) \\\\\n",
    "0 & \\cos\\left(\\frac{\\theta}{2}\\right) & -i\\sin\\left(\\frac{\\theta}{2}\\right) & 0 \\\\\n",
    "0 & -i\\sin\\left(\\frac{\\theta}{2}\\right) & \\cos\\left(\\frac{\\theta}{2}\\right) & 0 \\\\\n",
    "-i\\sin\\left(\\frac{\\theta}{2}\\right) & 0 & 0 & \\cos\\left(\\frac{\\theta}{2}\\right)\n",
    "\\end{pmatrix}\n",
    "$$\n",
    "\n",
    "### Examples:\n",
    "\n",
    "- For $ \\theta = 0 $, the `RZZ` gate is the identity matrix $ I $.\n",
    "- For $ \\theta = 2 \\pi $, the `RZZ` gate is the identity matrix -$ I \\$.\n",
    "- For $ \\theta = \\pi $, the `RZZ` gate is $ iZ \\otimes Z $.\n",
    "\n",
    "\n",
    "- For $ \\theta = 0 $, the `RYY` gate is the identity matrix $I $.\n",
    "- For $ \\theta = \\pi $, the `RYY` gate is $ iY \\otimes Y $.\n",
    "\n",
    "- For $ \\theta = 0 $, the `RXX` gate is the identity matrix $ I $.\n",
    "- For $ \\theta = \\pi $, the `RXX` gate is $ iX \\otimes X $.\n",
    "\n",
    "\n",
    "But we also know that unitary operator from Eq (1.1) evolution can be written as:\n",
    "$$\\psi(t) = e^{-iH \\Delta t} \\psi(0) \\\\\n",
    "         = e^{-i \\Delta t \\sum_{i<j}^N J_{ij} \\sigma_i \\cdot \\sigma_j} \\psi(0)  \\\\ \n",
    "         = e^{-i \\Delta t J_{ij} X \\otimes X} e^{-i \\Delta t J_{ij} Y \\otimes Y} e^{-i \\Delta t J_{ij} Z \\otimes Z} \\psi(0)  \\tag{1.2}\n",
    "$$ \n",
    "(also note $\\Delta t$ = dt from above)\n",
    "\n",
    "So comparing the expression from above $RZZ(\\theta) = \\exp\\left(-\\frac{i\\theta}{2}Z \\otimes Z\\right) $ with Eq.(1.2) we realize $\\theta/2 = \\Delta t J_{ij} $ for $\\sigma_z \\cdot \\sigma_z$ and similarly for x and y compnenets substitue this $\\theta$. Hence plugging in this expression for $\\theta$ in the Eq(1.2) we get: \n",
    "\n",
    "$$ \\psi(t) = RXX(2 \\Delta t J_{ij}) RYY(2 \\Delta t J_{ij}) RZZ(2 \\Delta t J_{ij}) \\psi(0) \\tag{1.3} $$ \n",
    "\n",
    "\n",
    "\n",
    "We generate the exact two-body quantum circuit for this hamitonian below: "
   ]
  },
  {
   "cell_type": "code",
   "execution_count": 1,
   "metadata": {
    "metadata": {}
   },
   "outputs": [
    {
     "name": "stderr",
     "output_type": "stream",
     "text": [
      "/home/zohalaraib/.local/lib/python3.10/site-packages/qiskit/visualization/circuit/matplotlib.py:266: FutureWarning: The default matplotlib drawer scheme will be changed to \"iqp\" in a following release. To silence this warning, specify the current default explicitly as style=\"clifford\", or the new default as style=\"iqp\".\n",
      "  self._style, def_font_ratio = load_style(self._style)\n"
     ]
    },
    {
     "data": {
      "image/png": "[encoded data removed]",
      "text/plain": [
       "<Figure size 538.128x200.667 with 1 Axes>"
      ]
     },
     "execution_count": 1,
     "metadata": {},
     "output_type": "execute_result"
    }
   ],
   "source": [
    "from qiskit import QuantumCircuit\n",
    "from qiskit.circuit import Parameter\n",
    "from math import pi\n",
    "\n",
    "# Define the parameter alpha = dt* J_ij\n",
    "alpha = Parameter('alpha')\n",
    "\n",
    "# Create a quantum circuit with 2 qubits\n",
    "qc = QuantumCircuit(2)\n",
    "\n",
    "# Apply the RXX gate to generate the X \\otimes X gate with theta = 2 *alpha\n",
    "qc.rxx(2 *alpha, 0, 1)\n",
    "# Apply the RYY gate to generate the Y \\otimes Y gate with theta = 2 *alpha\n",
    "qc.ryy(2 *alpha, 0, 1)\n",
    "# Apply the RZZ gate to generate the Z \\otimes Z gate with theta = 2 *alpha\n",
    "qc.rzz(2 *alpha, 0, 1)\n",
    "\n",
    "# Display the circuit\n",
    "qc.draw('mpl')"
   ]
  },
  {
   "cell_type": "code",
   "execution_count": null,
   "metadata": {},
   "outputs": [],
   "source": []
  }
 ],
 "metadata": {
  "kernelspec": {
   "display_name": "Python 3",
   "language": "python",
   "name": "python3"
  },
  "language_info": {
   "codemirror_mode": {
    "name": "ipython",
    "version": 3
   },
   "file_extension": ".py",
   "mimetype": "text/x-python",
   "name": "python",
   "nbconvert_exporter": "python",
   "pygments_lexer": "ipython3",
   "version": "3.10.12"
  }
 },
 "nbformat": 4,
 "nbformat_minor": 2
}
