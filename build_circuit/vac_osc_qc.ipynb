{
 "cells": [
  {
   "cell_type": "markdown",
   "metadata": {},
   "source": [
    "This script generates quantum circuit for a one-body time-evolution operator under a Hamiltonian $$ H = \\sum_{i=0}^{N} \\vec{b} \\cdot \\vec{\\sigma_i} , $$  where $ \\vec{b} $ is a normalized vector and $ \\vec{\\sigma_i} $ are the Pauli matrices for the i-th qubit. The operator $ U_1(dt) $ is the time-evolution operator for time dt. This one-body part is the tensor product of the same single-qubit gate applied to each qubit given as:\n",
    "\n",
    "$$\n",
    "U_1(dt) = \\bigotimes_{i=0}^{N-1} \\exp(-i\\vec{b} \\cdot \\vec{\\sigma_i}dt).\n",
    "$$\n",
    "\n",
    "\n",
    "To simulate this time-evolution in a quantum circuit, we can apply rotation gates to each qubit corresponding to the exponentiated Pauli terms. The term $ -i \\vec{b} \\cdot \\vec{\\sigma_i} dt $ suggests rotations around the axes defined by the vector $ \\vec{b} $. If we decompose $ \\vec{b} $ into its Cartesian components $\\vec{b} = (b_x, b_y, b_z) $, this translates to rotations around the x, y, and z axes by angles proportional to $ b_x dt $,  $b_y dt $, and $ b_z dt $ respectively.\n"
   ]
  },
  {
   "cell_type": "code",
   "execution_count": null,
   "metadata": {},
   "outputs": [],
   "source": [
    "\n",
    "\n",
    "from qiskit import QuantumCircuit\n",
    "from qiskit.circuit import Parameter\n",
    "\n",
    "# Define parameters for the b components and time dt\n",
    "bx = Parameter('bx')\n",
    "by = Parameter('by')\n",
    "bz = Parameter('bz')\n",
    "dt = Parameter('dt')\n",
    "\n",
    "# Number of qubits\n",
    "N = 3  # Arbitrary\n",
    "\n",
    "# Create a quantum circuit for N qubits\n",
    "qc = QuantumCircuit(N)\n",
    "\n",
    "# Apply rotation gates for each qubit according to the b field components\n",
    "for i in range(N):\n",
    "    qc.rx(bx * dt, i)  # Rotation around the x-axis\n",
    "    qc.ry(by * dt, i)  # Rotation around the y-axis\n",
    "    qc.rz(bz * dt, i)  # Rotation around the z-axis\n",
    "\n",
    "# Display the circuit\n",
    "qc.draw('mpl')\n"
   ]
  },
  {
   "cell_type": "code",
   "execution_count": null,
   "metadata": {},
   "outputs": [],
   "source": []
  }
 ],
 "metadata": {
  "kernelspec": {
   "display_name": "Python 3",
   "language": "python",
   "name": "python3"
  },
  "language_info": {
   "codemirror_mode": {
    "name": "ipython",
    "version": 3
   },
   "file_extension": ".py",
   "mimetype": "text/x-python",
   "name": "python",
   "nbconvert_exporter": "python",
   "pygments_lexer": "ipython3",
   "version": "3.10.12"
  }
 },
 "nbformat": 4,
 "nbformat_minor": 2
}
