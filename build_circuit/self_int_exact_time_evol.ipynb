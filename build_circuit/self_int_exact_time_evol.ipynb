{
 "cells": [
  {
   "cell_type": "code",
   "execution_count": 1,
   "metadata": {},
   "outputs": [
    {
     "data": {
      "image/png": "[encoded data removed]",
      "text/plain": [
       "<Figure size 640x480 with 1 Axes>"
      ]
     },
     "metadata": {},
     "output_type": "display_data"
    }
   ],
   "source": [
    "from qiskit import QuantumCircuit, Aer, execute, transpile\n",
    "import numpy as np\n",
    "import matplotlib.pyplot as plt\n",
    "from math import pi\n",
    "\n",
    "# Time parameters\n",
    "dt = 0.05  # Time step for the simulation\n",
    "time_steps = 200  # Total number of time steps for the simulation\n",
    "J_ij = 1  # Interaction strength, assuming a constant value for simplicity\n",
    "N = 4 #qubits \n",
    "# Backend selection for simulation\n",
    "backend = Aer.get_backend('aer_simulator')\n",
    "shots = 1024\n",
    "\n",
    "# Function to create the quantum circuit with specific alpha value\n",
    "def create_circuit(alpha_value):\n",
    "    qc = QuantumCircuit(N, N)  # Adjusted for 4 qubits and classical bits\n",
    "    alpha_value = -dt * J_ij  # This might be recalculated for each pair or step if needed\n",
    "    \n",
    "    # Apply the RXX, RYY, and RZZ gates with theta = 2 * alpha across pairs of qubits\n",
    "    # Assuming a linear chain or ring of qubits for interactions\n",
    "    for i in range(N-1):  # Adjust to apply gates across adjacent pairs\n",
    "        qc.rxx(2 * alpha_value, i, i+1)\n",
    "        qc.ryy(2 * alpha_value, i, i+1)\n",
    "        qc.rzz(2 * alpha_value, i, i+1)\n",
    "\n",
    "    # Additional interactions for a ring-like structure (optional, remove if not needed)\n",
    "    # qc.rxx(2 * alpha_value, N, 0)\n",
    "    # qc.ryy(2 * alpha_value, N, 0)\n",
    "    # qc.rzz(2 * alpha_value, N, 0)\n",
    "\n",
    "    # Measure in the computational basis\n",
    "    qc.measure(range(N), range(N))\n",
    "    \n",
    "    return qc\n",
    "\n",
    "# Simulation and expectation value calculation\n",
    "sigma_z_values = []\n",
    "\n",
    "for step in range(time_steps):\n",
    "    # Calculate alpha for the current time step\n",
    "    alpha_value = -dt * J_ij * step\n",
    "    \n",
    "    # Create and execute the circuit with the current alpha value\n",
    "    qc = create_circuit(alpha_value)\n",
    "    transpiled_qc = transpile(qc, backend)\n",
    "    result = execute(transpiled_qc, backend, shots=shots).result()\n",
    "    counts = result.get_counts(qc)\n",
    "    \n",
    "    # Calculate expectation value of sigma_z for this step\n",
    "    sigma_z = 0\n",
    "    for outcome in counts:\n",
    "        # Convert the outcome to sigma_z contributions\n",
    "        sigma_z_contribution = sum([1 if bit == '0' else -1 for bit in outcome]) / N  # Adjusted for 4 qubits\n",
    "        sigma_z += sigma_z_contribution * counts[outcome] / shots\n",
    "    sigma_z_values.append(sigma_z)\n",
    "\n",
    "# Plotting the evolution of sigma_z over time\n",
    "time_array = np.arange(0, time_steps*dt, dt)\n",
    "plt.plot(time_array, sigma_z_values, label='$\\\\sigma_z$ Evolution')\n",
    "plt.xlabel('Time')\n",
    "plt.ylabel('Value of $\\\\sigma_z$')\n",
    "plt.title('Evolution of $\\\\sigma_z$ over Time')\n",
    "plt.legend()\n",
    "plt.show()\n",
    "\n"
   ]
  },
  {
   "cell_type": "code",
   "execution_count": null,
   "metadata": {},
   "outputs": [],
   "source": []
  }
 ],
 "metadata": {
  "kernelspec": {
   "display_name": "Python 3",
   "language": "python",
   "name": "python3"
  },
  "language_info": {
   "codemirror_mode": {
    "name": "ipython",
    "version": 3
   },
   "file_extension": ".py",
   "mimetype": "text/x-python",
   "name": "python",
   "nbconvert_exporter": "python",
   "pygments_lexer": "ipython3",
   "version": "3.10.12"
  }
 },
 "nbformat": 4,
 "nbformat_minor": 2
}
