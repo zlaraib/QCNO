{
 "cells": [
  {
   "cell_type": "markdown",
   "id": "591d914a",
   "metadata": {},
   "source": [
    "# Binding Energy between proton and neutron in the Deuteron nucleus"
   ]
  },
  {
   "cell_type": "markdown",
   "id": "cbabcf85",
   "metadata": {},
   "source": [
    "At the current stage of quantum computing the quantum processors we have available do not yet have error correcting codes implemented and thus still have noise that must be contended with. This noise can adversely impact the results and hence can limit the sort of problems we can currently tackle when, due to the noise, a high level of confidence and precision cannot\n",
    "be expected from the results.\n",
    "\n",
    "However, there are some problems which demand only few qubits to be solved, like the computation of the binding energy between the proton and neutron in the Deuteron nucleus [[1]](https://arxiv.org/pdf/1801.03897.pdf). This problem is an example of a scenario where we can achieve good results despite the challenges mentioned earlier."
   ]
  },
  {
   "cell_type": "markdown",
   "id": "43ace962",
   "metadata": {},
   "source": [
    "## Step 1: Importing the packages that we need to tackle the problem"
   ]
  },
  {
   "cell_type": "code",
   "execution_count": null,
   "id": "dd31bf33",
   "metadata": {},
   "outputs": [],
   "source": [
    "import numpy as np\n",
    "import matplotlib.pyplot as plt\n",
    "from IPython.display import display, clear_output\n",
    "from qiskit.primitives import Estimator\n",
    "from qiskit_algorithms import VQE\n",
    "from qiskit_algorithms.observables_evaluator import estimate_observables\n",
    "from qiskit_algorithms.optimizers import COBYLA, SLSQP\n",
    "from qiskit.circuit import QuantumCircuit, Parameter\n",
    "from qiskit.circuit.library import TwoLocal\n",
    "from qiskit.quantum_info import Pauli, SparsePauliOp\n",
    "from qiskit.utils import algorithm_globals\n",
    "from qiskit_nature.second_q.operators import FermionicOp\n",
    "from qiskit_nature.second_q.mappers import JordanWignerMapper"
   ]
  },
  {
   "cell_type": "markdown",
   "id": "7fff1d3a",
   "metadata": {},
   "source": [
    "## Step 2: Defining some functions that we will use"
   ]
  },
  {
   "cell_type": "markdown",
   "id": "fc54fdc6",
   "metadata": {},
   "source": [
    "Before we start the definition of the Deuteron Hamiltonian, we need to define a utility function implementing the Kronecker delta, which is defined as follows:\n",
    "\n",
    "$\\delta_{n,m} = \\bigg\\{\\begin{array}{c}0, \\ \\textrm{if} \\ n \\neq m \\\\1, \\ \\textrm{if } \\ n = m.\\end{array}$.\n",
    "\n",
    "This function appears in the Deuteron Hamiltonian definition given in [[1]](https://arxiv.org/pdf/1801.03897.pdf). Below we have a piece of code that defines the Kronecker delta function."
   ]
  },
  {
   "cell_type": "code",
   "execution_count": null,
   "id": "af3784b6",
   "metadata": {},
   "outputs": [],
   "source": [
    "def kronecker_delta_function(n: int, m: int) -> int:\n",
    "    \"\"\"An implementation of the Kronecker delta function.\n",
    "\n",
    "    Args:\n",
    "        n (int): The first integer argument.\n",
    "        m (int): The second integer argument.\n",
    "\n",
    "    Returns:\n",
    "        Returns 1 if n = m, else returns 0.\n",
    "    \"\"\"\n",
    "    return int(n == m)"
   ]
  },
  {
   "cell_type": "markdown",
   "id": "553b3feb",
   "metadata": {},
   "source": [
    "In [[1]](https://arxiv.org/pdf/1801.03897.pdf) we can find the following expression for the Deuteron Hamiltonian\n",
    "$H_N = \\sum_{n,m=0}^{N-1}\\langle m|(T+V)|n\\rangle a_{m}^\\dagger a_n$,\n",
    "where $|n\\rangle$ and $|m\\rangle$ represent quantum states in the harmonic oscillator basis, and $a_m^\\dagger$ and $a_n$ represent the creation and annihilation operators, respectively.\n",
    "\n",
    "To create the code that defines $H_N$, we need the matrix elements of the kinetic and potential energy. Again, we find these expressions in [[1]](https://arxiv.org/pdf/1801.03897.pdf):\n",
    "\n",
    "$\\langle m|T|n\\rangle = \\frac{\\hbar\\omega}{2}\\left[\\left(2n+\\frac{3}{2}\\right)\\delta_{n,m}-\\sqrt{n(n+\\frac{1}{2})}\\delta_{n,m+1}-\\sqrt{(n+1)(n+\\frac{3}{2})}\\delta_{n,m-1}\\right],$\n",
    "$\\langle m|V|n\\rangle = V_0\\delta_{n,0}\\delta_{n,m}.$\n",
    "\n",
    "Where $V_0 = -5.68658111 \\ \\textrm{MeV}$ and $\\hbar\\omega = 7 \\ \\textrm{MeV}$. However, the Hamiltonian written in this way cannot be processed directly in a quantum computer, because a quantum computer manipulates qubits through gates based on Pauli matrices. Thus, we need to convert the creation and annihilation operators into Pauli operators. To do that, we can make use of the Jordan-Wigner transformation\n",
    "\n",
    "$a_n^\\dagger \\ \\rightarrow \\ \\frac{1}{2}\\left[\\prod_{j=0}^{n-1}-Z_j\\right](X_n-iY_n),$\n",
    "\n",
    "$a_n \\ \\rightarrow \\ \\frac{1}{2}\\left[\\prod_{j=0}^{n-1}-Z_j\\right](X_n+iY_n).$\n",
    "\n",
    "Fortunately, in Qiskit Nature we have tools to define fermionic operators and to convert this kind of operators into Pauli operators through the Jordan-Wigner transformation. Initially, we use a for loop to construct and store the labels and coefficients in a tuple, and after this, we add the tuple in a list. Each string label and coefficient define a kinetic element $\\langle m|T|n\\rangle$ and a potential element $\\langle m|V|n\\rangle$ of the Hamiltonian. At the end of the for loop, we have to pass the list with the tuples with labels and coefficients to `FermionicOp`, in order to create a Hamiltonian in terms of the creation and annihilation operators. We need to rewrite this Hamiltonian in terms of Pauli operators, to do this we use `JordanWignerMapper()`. In order to obtain more information about the Qiskit Nature tools, we recommend a reading of the Qiskit Nature documentation [[2]](https://qiskit.org/documentation/nature/)."
   ]
  },
  {
   "cell_type": "code",
   "execution_count": null,
   "id": "df2fe43f",
   "metadata": {},
   "outputs": [],
   "source": [
    "def create_deuteron_hamiltonian(\n",
    "    N: int, hbar_omega: float = 7.0, V_0: float = -5.68658111\n",
    ") -> SparsePauliOp:\n",
    "    \"\"\"Creates a version of the Deuteron Hamiltonian as a qubit operator.\n",
    "\n",
    "    Args:\n",
    "        N (int): An integer number that represents the dimension of the\n",
    "            basis.\n",
    "        hbar_omega (float, optional): The value of the product of hbar and omega. Defaults to 7.0.\n",
    "        V_0 (float, optional): The value of the potential energy. Defaults to -5.68658111.\n",
    "\n",
    "    Returns:\n",
    "        SparsePauliOp: The qubit-space Hamiltonian that represents the Deuteron.\n",
    "    \"\"\"\n",
    "    hamiltonian_terms = {}\n",
    "    for m in range(N):\n",
    "        for n in range(N):\n",
    "\n",
    "            label = \"+_{} -_{}\".format(str(n), str(m))\n",
    "            coefficient_kinect = (hbar_omega / 2) * (\n",
    "                (2 * n + 3 / 2) * kronecker_delta_function(n, m)\n",
    "                - np.sqrt(n * (n + (1 / 2))) * kronecker_delta_function(n, m + 1)\n",
    "                - np.sqrt((n + 1) * (n + (3 / 2)) * kronecker_delta_function(n, m - 1))\n",
    "            )\n",
    "            hamiltonian_terms[label] = coefficient_kinect\n",
    "\n",
    "            coefficient_potential = (\n",
    "                V_0 * kronecker_delta_function(n, 0) * kronecker_delta_function(n, m)\n",
    "            )\n",
    "            hamiltonian_terms[label] += coefficient_potential\n",
    "\n",
    "    hamiltonian = FermionicOp(hamiltonian_terms, num_spin_orbitals=N)\n",
    "    mapper = JordanWignerMapper()\n",
    "    qubit_hamiltonian = mapper.map(hamiltonian)\n",
    "    if not isinstance(qubit_hamiltonian, SparsePauliOp):\n",
    "        qubit_hamiltonian = qubit_hamiltonian.primitive\n",
    "\n",
    "    return qubit_hamiltonian"
   ]
  },
  {
   "cell_type": "markdown",
   "id": "b7efbbda",
   "metadata": {},
   "source": [
    "Now, we have an idea of how to use some of Qiskit Nature tools to build a Hamiltonian in terms of Pauli operators. However, this is not the end, we need to construct an ansatz through a parameterized quantum circuit and use it in the `VQE` to compute the minimum eigenvalue of the Deuteron Hamiltonian (binding energy)."
   ]
  },
  {
   "cell_type": "markdown",
   "id": "647145a2",
   "metadata": {},
   "source": [
    "## Step 3: Using Qiskit tools to calculate the binding energy between proton and neutron in Deuteron nucleus"
   ]
  },
  {
   "cell_type": "markdown",
   "id": "1e313f5a",
   "metadata": {},
   "source": [
    "In the previous step, we have defined the functions that will be useful to us in the task of calculating the binding energy between proton and neutron in the Deuteron nucleus. Thus, now it is time to start the process of solving the problem with the tools we built."
   ]
  },
  {
   "cell_type": "markdown",
   "id": "7b2e1edb",
   "metadata": {},
   "source": [
    "Now it is time to create the Hamiltonian, we will begin with $H_1$, that is the simplest form of the deuteron Hamiltonian ($N = 1$). In [[1]](https://arxiv.org/pdf/1801.03897.pdf), the authors calculated the ground-state energy for $N = 1,2,3$ and they used those values to extrapolate the energy and try to reach $-2.22 \\ MeV$, the value of the deuteron's ground-state energy. Here we will create a list to store the Hamiltonians $H_1$, $H_2$, $H_3$ and $H_4$, because we will use these Hamiltonians later to calculate the ground-state. To do this, we can do a list comprehension with the function `create_deuteron_hamiltonian` that we defined above. "
   ]
  },
  {
   "cell_type": "code",
   "execution_count": null,
   "id": "f5432a61",
   "metadata": {},
   "outputs": [],
   "source": [
    "deuteron_hamiltonians = [create_deuteron_hamiltonian(i) for i in range(1, 5)]"
   ]
  },
  {
   "cell_type": "markdown",
   "id": "98460a5a",
   "metadata": {},
   "source": [
    "In reference [[1]](https://arxiv.org/pdf/1801.03897.pdf), we can find the exact expressions for Deuteron Hamiltonian of size N = 1, 2 and 3 as given below.\n",
    "\n",
    "$H_1 = 0.218291(Z_0-I_0)$\n",
    "\n",
    "$H_2 = 5.906709I_1\\otimes I_0 + 0.218291I_1\\otimes Z_0 - 6.215Z_1\\otimes I_0 - 2.143304(X_1\\otimes X_0 + Y_1 \\otimes Y_0)$\n",
    "\n",
    "$H_3 = I_2\\otimes H_2 + 9.625(I_2\\otimes I_1\\otimes I_0 - Z_2\\otimes I_1\\otimes I_0) - 3.913119(X_2\\otimes X_1\\otimes I_0 + Y_2\\otimes Y_1\\otimes I_0)$"
   ]
  },
  {
   "cell_type": "markdown",
   "id": "ed13c2eb",
   "metadata": {},
   "source": [
    "If we want to know if our `create_deuteron_hamiltonian` gives us the right result, we have to compare with the expressions presented above. For this purpose, we printed the Hamiltonians generated by the function `create_deuteron_hamiltonian` in the cell below.  "
   ]
  },
  {
   "cell_type": "code",
   "execution_count": null,
   "id": "3e53fb95",
   "metadata": {},
   "outputs": [],
   "source": [
    "for i, hamiltonian in enumerate(deuteron_hamiltonians):\n",
    "    print(\"Deuteron Hamiltonian: H_{}\".format(i + 1))\n",
    "    print(hamiltonian)\n",
    "    print(\"\\n\")"
   ]
  },
  {
   "cell_type": "markdown",
   "id": "ae940855",
   "metadata": {},
   "source": [
    "By inspection, we can see that our function is giving us the right result for $H_1$, $H_2$ and $H_3$. However, we don't have an expression for $H_4$ in [[1]](https://arxiv.org/pdf/1801.03897.pdf), but it is possible to say, by induction, that the result must be correct once the previous results matched with the expressions given in [[1]](https://arxiv.org/pdf/1801.03897.pdf)."
   ]
  },
  {
   "cell_type": "markdown",
   "id": "24f6701d",
   "metadata": {},
   "source": [
    "In [[1]](https://arxiv.org/pdf/1801.03897.pdf), the authors worked with ansatze of low depth, because they wanted to compute things on a real quantum device. Those quantum circuits can be found in [[1]](https://arxiv.org/pdf/1801.03897.pdf). As we already discussed in the beginning of this tutorial, the currently available quantum hardware has to work with quantum circuits with low depth to achieve good results, once they still have a significant amount of noise and don't have quantum error correction implemented.\n",
    "\n",
    "We need to define two parameters to build the circuits presented in [[1]](https://arxiv.org/pdf/1801.03897.pdf), $\\theta$ (theta) and $\\eta$ (eta), which we can do it using `Parameter()` as shown in the cell code below."
   ]
  },
  {
   "cell_type": "code",
   "execution_count": null,
   "id": "f551062b",
   "metadata": {},
   "outputs": [],
   "source": [
    "theta = Parameter(r\"$\\theta$\")\n",
    "eta = Parameter(r\"$\\eta$\")"
   ]
  },
  {
   "cell_type": "markdown",
   "id": "50403c1b",
   "metadata": {},
   "source": [
    "Using the parameters defined above and following the instructions to build the circuits presented in [[1]](https://arxiv.org/pdf/1801.03897.pdf), we obtain the following circuits:"
   ]
  },
  {
   "cell_type": "code",
   "execution_count": null,
   "id": "33f0f2d3",
   "metadata": {},
   "outputs": [],
   "source": [
    "wavefunction = QuantumCircuit(1)\n",
    "wavefunction.ry(theta, 0)\n",
    "wavefunction.draw(\"mpl\")"
   ]
  },
  {
   "cell_type": "code",
   "execution_count": null,
   "id": "9e608706",
   "metadata": {},
   "outputs": [],
   "source": [
    "wavefunction2 = QuantumCircuit(2)\n",
    "wavefunction2.x(0)\n",
    "wavefunction2.ry(theta, 1)\n",
    "wavefunction2.cx(1, 0)\n",
    "wavefunction2.draw(\"mpl\")"
   ]
  },
  {
   "cell_type": "code",
   "execution_count": null,
   "id": "950149ff",
   "metadata": {},
   "outputs": [],
   "source": [
    "wavefunction3 = QuantumCircuit(3)\n",
    "wavefunction3.x(0)\n",
    "wavefunction3.ry(eta, 1)\n",
    "wavefunction3.ry(theta, 2)\n",
    "wavefunction3.cx(2, 0)\n",
    "wavefunction3.cx(0, 1)\n",
    "wavefunction3.ry(-eta, 1)\n",
    "wavefunction3.cx(0, 1)\n",
    "wavefunction3.cx(1, 0)\n",
    "wavefunction3.draw(\"mpl\")"
   ]
  },
  {
   "cell_type": "markdown",
   "id": "7f203454",
   "metadata": {},
   "source": [
    "Unfortunately, in [[1]](https://arxiv.org/pdf/1801.03897.pdf) we can't find a low-depth circuit for the ansatz for $H_4$. Then, for now we are not going to work with $N = 4$, but later we will return to this problem using `TwoLocal` as an ansatz."
   ]
  },
  {
   "cell_type": "markdown",
   "id": "4e134f19",
   "metadata": {},
   "source": [
    "Now, we can store these circuits in the ansatz list for the organization of the tests."
   ]
  },
  {
   "cell_type": "code",
   "execution_count": null,
   "id": "f942cf3b",
   "metadata": {},
   "outputs": [],
   "source": [
    "ansatz = [wavefunction, wavefunction2, wavefunction3]"
   ]
  },
  {
   "cell_type": "markdown",
   "id": "86c68aba",
   "metadata": {},
   "source": [
    "The rather small size of our generated operators, allows us to use numpy functions (classical methods) to obtain the binding energy for $H_1$, $H_2$, $H_3$ and $H_4$ through the process of finding the lowest eigenvalue of the Hamiltonian matrices. This task is done in the for loop of the code cell below. "
   ]
  },
  {
   "cell_type": "code",
   "execution_count": null,
   "id": "fc3cb4e5",
   "metadata": {},
   "outputs": [],
   "source": [
    "reference_values = []\n",
    "print(\"Exact binding energies calculated through numpy.linalg.eigh \\n\")\n",
    "for i, hamiltonian in enumerate(deuteron_hamiltonians):\n",
    "    eigenvalues, eigenstates = np.linalg.eigh(hamiltonian.to_matrix())\n",
    "    reference_values.append(eigenvalues[0])\n",
    "    print(\"Exact binding energy for H_{}: {}\".format(i + 1, eigenvalues[0]))"
   ]
  },
  {
   "cell_type": "markdown",
   "id": "ad7cb72e",
   "metadata": {},
   "source": [
    "The results obtained above will be used as our reference values. Thus, we can use them to see if the Estimator gives us good results. In the code cell below we ran the `VQE` algorithm for each pair of `ansatz` and Hamiltonian, using the Estimator and the `SLSQP` optimizer. "
   ]
  },
  {
   "cell_type": "code",
   "execution_count": null,
   "id": "c3883825",
   "metadata": {
    "scrolled": true
   },
   "outputs": [],
   "source": [
    "print(\n",
    "    \"Results using Estimator for H_1, H_2 and H_3 with the ansatz given in the reference paper \\n\"\n",
    ")\n",
    "for i in range(3):\n",
    "    seed = 42\n",
    "    algorithm_globals.random_seed = seed\n",
    "    vqe = VQE(Estimator(), ansatz=ansatz[i], optimizer=SLSQP())\n",
    "    vqe_result = vqe.compute_minimum_eigenvalue(deuteron_hamiltonians[i])\n",
    "    binding_energy = vqe_result.optimal_value\n",
    "    print(\"Binding energy for H_{}: {} MeV\".format(i + 1, binding_energy))"
   ]
  },
  {
   "cell_type": "markdown",
   "id": "47914d4f",
   "metadata": {},
   "source": [
    "We can see that our results are in agreement with the reference values obtained by classical methods. We also tested some different options of optimizers provided in Qiskit, because we wanted to know which one behaves better. To do this, we make use of the `callback` option in `VQE` to allow us to store the list of counts and values. With this information it is possible to make a plot to see if the optimizer converges to the value of reference and, if it converges, how fast it does. However, in the code cell below, we are working only with the `COBYLA` optimizer for the sake of simplicity."
   ]
  },
  {
   "cell_type": "code",
   "execution_count": null,
   "id": "d6d23f7e",
   "metadata": {},
   "outputs": [],
   "source": [
    "def callback(eval_count, parameters, mean, std):\n",
    "    # Overwrites the same line when printing\n",
    "    display(\"Evaluation: {}, Energy: {}, Std: {}\".format(eval_count, mean, std))\n",
    "    clear_output(wait=True)\n",
    "    counts.append(eval_count)\n",
    "    values.append(mean)\n",
    "    params.append(parameters)\n",
    "    deviation.append(std)"
   ]
  },
  {
   "cell_type": "code",
   "execution_count": null,
   "id": "f69a1cc0",
   "metadata": {},
   "outputs": [],
   "source": [
    "plots = []\n",
    "\n",
    "for i in range(3):\n",
    "\n",
    "    counts = []\n",
    "    values = []\n",
    "    params = []\n",
    "    deviation = []\n",
    "    seed = 42\n",
    "    algorithm_globals.random_seed = seed\n",
    "    vqe = VQE(Estimator(), ansatz=ansatz[i], optimizer=COBYLA(), callback=callback)\n",
    "    vqe_result = vqe.compute_minimum_eigenvalue(deuteron_hamiltonians[i])\n",
    "    plots.append([counts, values])"
   ]
  },
  {
   "cell_type": "markdown",
   "id": "9e9204fa",
   "metadata": {},
   "source": [
    "Plotting the results obtained with the execution of `VQE` on the previous code cell."
   ]
  },
  {
   "cell_type": "code",
   "execution_count": null,
   "id": "eb3f2121",
   "metadata": {},
   "outputs": [],
   "source": [
    "fig, ax = plt.subplots(nrows=3, ncols=1)\n",
    "fig.set_size_inches((12, 12))\n",
    "for i, plot in enumerate(plots):\n",
    "    ax[i].plot(plot[0], plot[1], \"o-\", label=\"COBYLA\")\n",
    "    ax[i].axhline(\n",
    "        y=reference_values[i],\n",
    "        color=\"k\",\n",
    "        linestyle=\"--\",\n",
    "        label=f\"Reference Value: {reference_values[i]}\",\n",
    "    )\n",
    "    ax[i].legend()\n",
    "    ax[i].set_xlabel(\"Cost Function Evaluations\", fontsize=15)\n",
    "    ax[i].set_ylabel(r\"$\\langle H_{} \\rangle$ - Energy (MeV)\".format(i + 1), fontsize=15)\n",
    "plt.show()"
   ]
  },
  {
   "cell_type": "markdown",
   "id": "08e784bf",
   "metadata": {},
   "source": [
    "Note that with the quantum circuits given in [[1]](https://arxiv.org/pdf/1801.03897.pdf), we can't test whether we can reach the reference value for $H_4$, because, as mentioned before, we don't have an `ansatz` for this Hamiltonian. Fortunately, that is not the end for our experiments, because Qiskit provides some functions that create an `ansatz` for us. For our purposes, we decided to use the TwoLocal function to build our new `ansatz`. In the code cell below we used a for loop to create a list with the `TwoLocal` ansatz for each Hamiltonian. "
   ]
  },
  {
   "cell_type": "code",
   "execution_count": null,
   "id": "c0da90ac",
   "metadata": {},
   "outputs": [],
   "source": [
    "twolocal_ansatzes = []\n",
    "for i in range(1, 5):\n",
    "    ansatz = TwoLocal(\n",
    "        deuteron_hamiltonians[i - 1].num_qubits,\n",
    "        [\"rz\", \"ry\"],\n",
    "        \"cx\",\n",
    "        entanglement=\"full\",\n",
    "        reps=i,\n",
    "        initial_state=None,\n",
    "    )\n",
    "    twolocal_ansatzes.append(ansatz)"
   ]
  },
  {
   "cell_type": "markdown",
   "id": "2bf804fc",
   "metadata": {},
   "source": [
    "Now we can check if with this new type of `ansatz`, we can reach the reference values obtained through classical methods. To do this verification, we have to repeat the experiments done previously, but now using the `ansatz` defined through the usage of TwoLocal function."
   ]
  },
  {
   "cell_type": "code",
   "execution_count": null,
   "id": "74bcb6ae",
   "metadata": {},
   "outputs": [],
   "source": [
    "print(\"Results using Estimator for H_1, H_2, H_3 and H_4 with TwoLocal ansatz \\n\")\n",
    "seed = 42\n",
    "algorithm_globals.random_seed = seed\n",
    "for i in range(4):\n",
    "    vqe = VQE(Estimator(), ansatz=twolocal_ansatzes[i], optimizer=SLSQP())\n",
    "    vqe_result = vqe.compute_minimum_eigenvalue(deuteron_hamiltonians[i])\n",
    "    binding_energy = vqe_result.optimal_value\n",
    "    print(\"Binding energy for H_{}:\".format(i + 1), binding_energy, \"MeV\")"
   ]
  },
  {
   "cell_type": "code",
   "execution_count": null,
   "id": "71971b5c",
   "metadata": {},
   "outputs": [],
   "source": [
    "seed = 42\n",
    "algorithm_globals.random_seed = seed\n",
    "\n",
    "plots_tl = []\n",
    "for i in range(4):\n",
    "\n",
    "    counts = []\n",
    "    values = []\n",
    "    params = []\n",
    "    deviation = []\n",
    "    vqe = VQE(\n",
    "        Estimator(),\n",
    "        ansatz=twolocal_ansatzes[i],\n",
    "        optimizer=SLSQP(),\n",
    "        callback=callback,\n",
    "    )\n",
    "    vqe_result = vqe.compute_minimum_eigenvalue(deuteron_hamiltonians[i])\n",
    "    plots_tl.append([counts, values])"
   ]
  },
  {
   "cell_type": "markdown",
   "id": "9fa32399",
   "metadata": {},
   "source": [
    "Using the four different `TwoLocal` ansatze, we obtained the following results:"
   ]
  },
  {
   "cell_type": "code",
   "execution_count": null,
   "id": "46ede7e8",
   "metadata": {},
   "outputs": [],
   "source": [
    "fig, ax = plt.subplots(nrows=4, ncols=1)\n",
    "fig.set_size_inches((15, 15))\n",
    "for i, plot in enumerate(plots_tl):\n",
    "    ax[i].plot(plot[0], plot[1], \"o-\", label=\"COBYLA\")\n",
    "    ax[i].axhline(\n",
    "        y=reference_values[i],\n",
    "        color=\"k\",\n",
    "        linestyle=\"--\",\n",
    "        label=f\"Reference Value: {reference_values[i]}\",\n",
    "    )\n",
    "    ax[i].legend()\n",
    "    ax[i].set_xlabel(\"Cost Function Evaluations\", fontsize=15)\n",
    "    ax[i].set_ylabel(r\"$\\langle H_{} \\rangle$ - Energy (MeV)\".format(i + 1), fontsize=15)\n",
    "plt.show()"
   ]
  },
  {
   "cell_type": "markdown",
   "id": "b553a985",
   "metadata": {},
   "source": [
    "## Step 4: Calculating the observables expectation values"
   ]
  },
  {
   "cell_type": "markdown",
   "id": "e25d2524",
   "metadata": {},
   "source": [
    "One of our goals in the Qiskit Advocate Mentorship Program project was to show that it is possible to calculate expectation values of some observables of interest, and show how they behave when we vary a parameter in the `ansatz` circuit. In our case, the observables of interest were $I_1  \\otimes Z_0$, $Z_1  \\otimes I_0$, $X_1  \\otimes X_0$, $Y_1  \\otimes Y_0$ and $H_2$, then we investigate their behavior when the parameter $\\theta$ was varied inside the interval $[-\\pi,\\pi]$."
   ]
  },
  {
   "cell_type": "markdown",
   "id": "e7499584",
   "metadata": {},
   "source": [
    "In Dirac notation (bra-ket), the definition of the expectation value of an observable $\\hat{O}$ is equal to [[3]](https://www.feynmanlectures.caltech.edu/III_toc.html) <a href=\"https://en.wikipedia.org/wiki/Expectation_value_(quantum_mechanics)\">[4]</a>:\n",
    "\n",
    "$\\langle \\hat{O} \\rangle_\\psi = \\langle \\psi(\\vec{\\theta})|\\hat{O}|\\psi(\\vec{\\theta}) \\rangle$.\n",
    "\n",
    "The code below defines a function that calculates the expectation values of observables, given a parameterized quantum circuit and a list with some values for these parameters (angles)."
   ]
  },
  {
   "cell_type": "code",
   "execution_count": null,
   "id": "cafbad27",
   "metadata": {},
   "outputs": [],
   "source": [
    "def calculate_observables_exp_values(\n",
    "    quantum_circuit: QuantumCircuit, observables: list, angles: list\n",
    ") -> list:\n",
    "    \"\"\"Calculate the expectation value of an observable given the quantum\n",
    "    circuit that represents the wavefunction and a list of parameters.\n",
    "\n",
    "        Args:\n",
    "            quantum_circuit (QuantumCircuit): A parameterized quantum circuit\n",
    "            that represents the wavefunction of the system.\n",
    "\n",
    "            observables (list): A list containing the observables that we want\n",
    "            to know the expectation values.\n",
    "\n",
    "            angles (list): A list with the values that will be used in the\n",
    "            'bind_parameters' method.\n",
    "\n",
    "        Returns:\n",
    "            list_exp_values (list): A list containing the expectation values\n",
    "            of the observables given as input.\n",
    "    \"\"\"\n",
    "    list_exp_values = []\n",
    "    for observable in observables:\n",
    "        exp_values = []\n",
    "        for angle in angles:\n",
    "            qc = quantum_circuit.bind_parameters({theta: angle})\n",
    "            result = estimate_observables(\n",
    "                Estimator(),\n",
    "                quantum_state=qc,\n",
    "                observables=[observable],\n",
    "            )\n",
    "\n",
    "            exp_values.append(result[0][0])\n",
    "        list_exp_values.append(exp_values)\n",
    "\n",
    "    return list_exp_values"
   ]
  },
  {
   "cell_type": "markdown",
   "id": "aac53c6e",
   "metadata": {},
   "source": [
    "Calculating the expectation value of the observables of interest using the function defined above:"
   ]
  },
  {
   "cell_type": "code",
   "execution_count": null,
   "id": "3ff680bc",
   "metadata": {},
   "outputs": [],
   "source": [
    "angles = list(np.linspace(-np.pi, np.pi, 100))\n",
    "observables = [\n",
    "    Pauli(\"IZ\"),\n",
    "    Pauli(\"ZI\"),\n",
    "    Pauli(\"XX\"),\n",
    "    Pauli(\"YY\"),\n",
    "    deuteron_hamiltonians[1],\n",
    "]\n",
    "h2_observables_exp_values = calculate_observables_exp_values(wavefunction2, observables, angles)"
   ]
  },
  {
   "cell_type": "markdown",
   "id": "8b56843b",
   "metadata": {},
   "source": [
    "Using the function `calculate_observables_exp_values` (we defined it in the Step 2), we got the plots presented below. They showed us that we were able to reproduce the results of [[1]](https://arxiv.org/pdf/1801.03897.pdf)."
   ]
  },
  {
   "cell_type": "code",
   "execution_count": null,
   "id": "87d1d6de",
   "metadata": {
    "tags": [
     "nbsphinx-thumbnail"
    ]
   },
   "outputs": [],
   "source": [
    "fig, ax = plt.subplots(nrows=2, ncols=1)\n",
    "fig.set_size_inches((12, 12))\n",
    "ax[0].plot(angles, h2_observables_exp_values[0], \"o\", label=r\"$Z_0$\")\n",
    "ax[0].plot(angles, h2_observables_exp_values[1], \"o\", label=r\"$Z_1$\")\n",
    "ax[0].plot(angles, h2_observables_exp_values[2], \"o\", label=r\"$X_0X_1$\")\n",
    "ax[0].plot(angles, h2_observables_exp_values[3], \"o\", label=r\"$Y_0Y_1$\")\n",
    "ax[0].axhline(\n",
    "    y=1,\n",
    "    color=\"k\",\n",
    "    linestyle=\"--\",\n",
    ")\n",
    "ax[0].axhline(y=-1, color=\"k\", linestyle=\"--\")\n",
    "ax[0].legend()\n",
    "ax[0].set_xlabel(r\"Theta - $\\theta$\", fontsize=15)\n",
    "ax[0].set_ylabel(r\"$\\langle O \\rangle $ - Operator Expectation Value\", fontsize=15)\n",
    "ax[0].set_xticks(\n",
    "    [-np.pi, -np.pi / 2, 0, np.pi / 2, np.pi],\n",
    "    labels=[r\"$-\\pi$\", r\"$-\\pi/2$\", \"0\", r\"$\\pi/2$\", r\"$\\pi$\"],\n",
    ")\n",
    "ax[0].set_title(\n",
    "    r\"Expectation value of the observables $Z_0$, $Z_1$, $X_0X_1$ and $Y_0Y_1$ when we vary $\\theta$ in the ansatz.\",\n",
    "    fontsize=15,\n",
    ")\n",
    "ax[1].plot(angles, h2_observables_exp_values[4], \"o\")\n",
    "ax[1].axhline(\n",
    "    y=reference_values[1],\n",
    "    color=\"k\",\n",
    "    linestyle=\"--\",\n",
    "    label=\"Binding Energy: {} MeV\".format(np.round(reference_values[1], 3)),\n",
    ")\n",
    "ax[1].legend()\n",
    "ax[1].set_xlabel(r\"Theta - $\\theta$\", fontsize=15)\n",
    "ax[1].set_ylabel(r\"$\\langle H_2 \\rangle $ - Energy (MeV)\", fontsize=15)\n",
    "ax[1].set_xticks(\n",
    "    [-np.pi, -np.pi / 2, 0, np.pi / 2, np.pi],\n",
    "    labels=[r\"$-\\pi$\", r\"$-\\pi/2$\", \"0\", r\"$\\pi/2$\", r\"$\\pi$\"],\n",
    ")\n",
    "ax[1].set_title(\n",
    "    r\"Behavior of the expectation value of $H_2$ when we vary $\\theta$ in the ansatz.\", fontsize=15\n",
    ")\n",
    "\n",
    "plt.show()"
   ]
  },
  {
   "cell_type": "markdown",
   "id": "738bb6e0",
   "metadata": {},
   "source": [
    "# Acknowledgment\n",
    "\n",
    "I would like to thank Steve Wood, Soham Pal and Siddhartha Morales for the debates in our meetings during the Qiskit Advocate Mentorship Program 2021 - Fall, they were very important for the construction of this tutorial. "
   ]
  },
  {
   "cell_type": "markdown",
   "id": "711a7f4c",
   "metadata": {},
   "source": [
    "# References\n",
    "\n",
    "[1] Dumitrescu, Eugene F., et al. \"Cloud quantum computing of an atomic nucleus.\" Physical review letters 120.21 (2018): 210501. Arxiv version: https://arxiv.org/pdf/1801.03897.pdf\n",
    "\n",
    "[2] Qiskit Nature Documentation. https://qiskit.org/documentation/nature/\n",
    "\n",
    "[3] Feynman, R. P., Robert B. Leighton, and Matthew Sands. \"The Feynman Lectures on Physics, Volume III: Quantum Mechanics, vol. 3.\" (2010). https://www.feynmanlectures.caltech.edu/III_toc.html\n",
    "\n",
    "[4] Expectation value (quantum mechanics) Wikipedia article. https://en.wikipedia.org/wiki/Expectation_value_(quantum_mechanics)"
   ]
  },
  {
   "cell_type": "code",
   "execution_count": null,
   "id": "3fbb1942",
   "metadata": {},
   "outputs": [],
   "source": [
    "import qiskit.tools.jupyter\n",
    "\n",
    "%qiskit_version_table\n",
    "%qiskit_copyright"
   ]
  }
 ],
 "metadata": {
  "kernelspec": {
   "display_name": "Python 3",
   "language": "python",
   "name": "python3"
  },
  "language_info": {
   "codemirror_mode": {
    "name": "ipython",
    "version": 3
   },
   "file_extension": ".py",
   "mimetype": "text/x-python",
   "name": "python",
   "nbconvert_exporter": "python",
   "pygments_lexer": "ipython3",
   "version": "3.9.16"
  },
  "vscode": {
   "interpreter": {
    "hash": "d4bd6456a0b47d0dd87b9ae107645ad9bf4ec16d9647d052356a2dc29fff80e1"
   }
  }
 },
 "nbformat": 4,
 "nbformat_minor": 5
}
