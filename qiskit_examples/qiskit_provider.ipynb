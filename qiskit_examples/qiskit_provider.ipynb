{
 "cells": [
  {
   "cell_type": "markdown",
   "metadata": {},
   "source": [
    "# Qiskit Provider Example"
   ]
  },
  {
   "cell_type": "code",
   "execution_count": null,
   "metadata": {},
   "outputs": [],
   "source": [
    "import numpy as np\n",
    "\n",
    "from qiskit import QuantumCircuit, execute\n",
    "from qiskit.visualization import plot_histogram"
   ]
  },
  {
   "cell_type": "code",
   "execution_count": null,
   "metadata": {},
   "outputs": [],
   "source": [
    "from qiskit import Aer"
   ]
  },
  {
   "cell_type": "markdown",
   "metadata": {},
   "source": [
    "Look at a list of the available qiskit devices."
   ]
  },
  {
   "cell_type": "code",
   "execution_count": null,
   "metadata": {},
   "outputs": [],
   "source": [
    "Aer.backends()"
   ]
  },
  {
   "cell_type": "code",
   "execution_count": null,
   "metadata": {},
   "outputs": [],
   "source": [
    "\n",
    "backend = Aer.get_backend('aer_simulator')\n",
    "status = backend.status()"
   ]
  },
  {
   "cell_type": "markdown",
   "metadata": {},
   "source": [
    "## Circuit Preparation\n",
    "\n",
    "The Quantinuum API accepts circuits in the [OpenQASM](https://github.com/Qiskit/openqasm) format. The benefit of using the Qiskit Quantinuum provider is that it supports conversion to and from the OpenQASM format before submission to a Quantinuum device. \n",
    "\n",
    "Note that qiskit may not have all additional capabilities enabled by the the Quantinuum OpenQASM Extension. See the *Extensions Example* notebook on the Quantinuum User Portal for information about Quantinuum-specific OpenQASM extensions.\n",
    "\n",
    "Here we generate a Bell-state preparation circuit using qiskit's `QuantumCircuit` object."
   ]
  },
  {
   "cell_type": "code",
   "execution_count": null,
   "metadata": {},
   "outputs": [],
   "source": [
    "n_qubits = 2\n",
    "circuit = QuantumCircuit(n_qubits, n_qubits, name='Bell Test')\n",
    "circuit.h(0)\n",
    "circuit.cx(0, 1)\n",
    "circuit.measure_all()\n",
    "\n",
    "circuit.draw()"
   ]
  },
  {
   "cell_type": "markdown",
   "metadata": {},
   "source": [
    "## Submit the Circuit\n",
    "\n",
    "Now we submit the circuit with the `execute` function.\n",
    "\n",
    "- `shots`: The number of times you want to run this quantum program"
   ]
  },
  {
   "cell_type": "code",
   "execution_count": null,
   "metadata": {},
   "outputs": [],
   "source": [
    "shots = 100\n",
    "job = execute(circuit, backend, shots=shots)"
   ]
  },
  {
   "cell_type": "markdown",
   "metadata": {},
   "source": [
    "## Check Job Status\n",
    "\n",
    "Once submitted, a job's status can be checked using the `QuantinuumJob`'s `status` function. This will return information on whether the job has been queued or completed."
   ]
  },
  {
   "cell_type": "code",
   "execution_count": null,
   "metadata": {},
   "outputs": [],
   "source": [
    "job.status()"
   ]
  },
  {
   "cell_type": "markdown",
   "metadata": {},
   "source": [
    "## Return Results\n",
    "\n",
    "When a job completes the results can be fetched using the `result()` function."
   ]
  },
  {
   "cell_type": "code",
   "execution_count": null,
   "metadata": {},
   "outputs": [],
   "source": [
    "result = job.result()\n",
    "\n",
    "print(\"Job ID:\", result.job_id)\n",
    "print(\"Job success:\", result.success)"
   ]
  },
  {
   "cell_type": "markdown",
   "metadata": {},
   "source": [
    "## Analyzing Results\n",
    "\n",
    "The `get_counts` function returns the aggregate outcomes of the experiment you ran.\n",
    "\n",
    "For the Bell Test we ran, the output bitstring should be `00` approximately 50 percent of the time. "
   ]
  },
  {
   "cell_type": "code",
   "execution_count": null,
   "metadata": {},
   "outputs": [],
   "source": [
    "counts = result.get_counts()\n",
    "print(\"Total count for 00 and 11 are:\",counts)\n",
    "\n",
    "# Result should not be '0', it should be '00'!"
   ]
  },
  {
   "cell_type": "markdown",
   "metadata": {},
   "source": [
    "Qiskit provides many visualizations, including the function `plot_histogram`, to view your results if `matplotlib` is installed."
   ]
  },
  {
   "cell_type": "code",
   "execution_count": null,
   "metadata": {},
   "outputs": [],
   "source": [
    "plot_histogram(counts)"
   ]
  },
  {
   "cell_type": "markdown",
   "metadata": {},
   "source": [
    "## Saving Results\n",
    "\n",
    "It is **highly** recommended to save results after jobs are completed in order to avoid losing results. The Quantinuum data retention policy is found in the *Quantinuum Systems User Guide* under the *Examples* tab on the Quantinuum User Portal. Below the results are saved in a json file."
   ]
  },
  {
   "cell_type": "code",
   "execution_count": null,
   "metadata": {},
   "outputs": [],
   "source": [
    "import json\n",
    "\n",
    "with open(f'results_{result.job_id}.json', 'w') as f:\n",
    "    json.dump(result.get_counts(), f)"
   ]
  }
 ],
 "metadata": {
  "kernelspec": {
   "display_name": "Python 3 (ipykernel)",
   "language": "python",
   "name": "python3"
  },
  "language_info": {
   "codemirror_mode": {
    "name": "ipython",
    "version": 3
   },
   "file_extension": ".py",
   "mimetype": "text/x-python",
   "name": "python",
   "nbconvert_exporter": "python",
   "pygments_lexer": "ipython3",
   "version": "3.10.12"
  },
  "vscode": {
   "interpreter": {
    "hash": "a914c74ffe388d3f33f9c76e73d82deea4e893aca18af73255d0d05ac2131336"
   }
  }
 },
 "nbformat": 4,
 "nbformat_minor": 2
}
