{
 "cells": [
  {
   "cell_type": "markdown",
   "id": "a2ecf1af-4d9d-482c-8cda-44ae649e40c3",
   "metadata": {},
   "source": [
    "# Quadratic Hamiltonians and Slater determinants\n",
    "\n",
    "A quadratic Hamiltonian is a Hamiltonian of the form\n",
    "$$\n",
    "    H =\n",
    "    \\sum_{j, k} M_{jk} a^\\dagger_j a_k\n",
    "    + \\frac12 \\sum_{j, k}\n",
    "        (\\Delta_{jk} a^\\dagger_j a^\\dagger_k + \\Delta^*_{jk} a_k a_j)\n",
    "    + \\text{constant}\n",
    "$$\n",
    "where $M$ is a Hermitian matrix ($M^\\dagger = M$) and $\\Delta$ is an antisymmetric matrix ($\\Delta^T = -\\Delta$), and the $\\{a_j^\\dagger\\}$ are fermionic creation operators which satisfy the anticommutation relations\n",
    "$$\n",
    "    \\begin{align}\n",
    "        a_j a_k + a_k a_j &= 0 \\\\\n",
    "        a_j a^\\dagger_k + a^\\dagger_k a_j &= \\delta_{pq}\n",
    "    \\end{align}.\n",
    "$$\n",
    "\n",
    "Quadratic Hamiltonians are an important class of Hamiltonians that are classically tractable. Their eigenstates are called fermionic Gaussian states, and they can be efficiently prepared on a quantum computer. Qiskit Nature includes the `QuadraticHamiltonian` class for representing quadratic Hamiltonians.\n",
    "\n",
    "Of course, the `FermionicOp` class can also be used to represent any quadratic Hamiltonian. The reason to have a class specifically for quadratic Hamiltonians is that they support special numerical routines that involve performing linear algebra on the matrices $M$ and $\\Delta$. The internal representation format of `FermionicOp` is not suitable for these routines.\n",
    "\n",
    "A quadratic Hamiltonian is initialized like so:"
   ]
  },
  {
   "cell_type": "code",
   "execution_count": null,
   "id": "6b91735f-72e4-46de-a2fa-d2d89db53d6a",
   "metadata": {
    "tags": []
   },
   "outputs": [],
   "source": [
    "import numpy as np\n",
    "from qiskit_nature.second_q.hamiltonians import QuadraticHamiltonian\n",
    "\n",
    "# create Hamiltonian\n",
    "hermitian_part = np.array(\n",
    "    [\n",
    "        [1.0, 2.0, 0.0, 0.0],\n",
    "        [2.0, 1.0, 2.0, 0.0],\n",
    "        [0.0, 2.0, 1.0, 2.0],\n",
    "        [0.0, 0.0, 2.0, 1.0],\n",
    "    ]\n",
    ")\n",
    "antisymmetric_part = np.array(\n",
    "    [\n",
    "        [0.0, 3.0, 0.0, 0.0],\n",
    "        [-3.0, 0.0, 3.0, 0.0],\n",
    "        [0.0, -3.0, 0.0, 3.0],\n",
    "        [0.0, 0.0, -3.0, 0.0],\n",
    "    ]\n",
    ")\n",
    "constant = 4.0\n",
    "\n",
    "hamiltonian = QuadraticHamiltonian(\n",
    "    hermitian_part=hermitian_part,\n",
    "    antisymmetric_part=antisymmetric_part,\n",
    "    constant=constant,\n",
    ")\n",
    "\n",
    "# convert it to a FermionicOp and print it\n",
    "hamiltonian_ferm = hamiltonian.second_q_op()\n",
    "print(hamiltonian_ferm)"
   ]
  },
  {
   "cell_type": "markdown",
   "id": "93b2ca42-9947-45da-ad1e-7c11735dc5a5",
   "metadata": {},
   "source": [
    "## Diagonalization and state preparation\n",
    "A quadratic Hamiltonian can always be rewritten in the form\n",
    "$$\n",
    "    H = \\sum_{j} \\varepsilon_j b^\\dagger_j b_j + \\text{constant}\n",
    "$$\n",
    "where $\\varepsilon_0 \\leq \\varepsilon_1 \\leq \\cdots \\leq \\varepsilon_N$ are non-negative real numbers called orbitals energies and\n",
    "the $\\{b_j^\\dagger\\}$ are a new set of fermionic creation operators\n",
    "that also satisfy the canonical anticommutation relations.\n",
    "These new creation operators are linear combinations of the original creation and annihilation operators:\n",
    "$$\n",
    "    \\begin{pmatrix}\n",
    "    b^\\dagger_1 \\\\\n",
    "    \\vdots \\\\\n",
    "    b^\\dagger_N \\\\\n",
    "    \\end{pmatrix}\n",
    "    = W\n",
    "    \\begin{pmatrix}\n",
    "    a^\\dagger_1 \\\\\n",
    "    \\vdots \\\\\n",
    "    a^\\dagger_N \\\\\n",
    "    a_1 \\\\\n",
    "    \\vdots \\\\\n",
    "    a_N\n",
    "    \\end{pmatrix},\n",
    "$$\n",
    "where $W$ is an $N \\times 2N$ matrix. Given a basis of eigenvectors of the Hamiltonian, each eigenvector is labeled by a subset of $\\{0, \\ldots, N - 1\\}$, which we call the occupied orbitals. The corresponding eigenvalue is the sum of the corresponding values of $\\varepsilon_j$, plus the constant."
   ]
  },
  {
   "cell_type": "code",
   "execution_count": null,
   "id": "62be7f36-3abe-4bde-a2cf-82a5c667fa27",
   "metadata": {},
   "outputs": [],
   "source": [
    "# get the transformation matrix W and orbital energies {epsilon_j}\n",
    "(\n",
    "    transformation_matrix,\n",
    "    orbital_energies,\n",
    "    transformed_constant,\n",
    ") = hamiltonian.diagonalizing_bogoliubov_transform()\n",
    "\n",
    "print(f\"Shape of matrix W: {transformation_matrix.shape}\")\n",
    "print(f\"Orbital energies: {orbital_energies}\")\n",
    "print(f\"Transformed constant: {transformed_constant}\")"
   ]
  },
  {
   "cell_type": "markdown",
   "id": "8345dded-8bce-46b8-8edd-414ce4f87494",
   "metadata": {},
   "source": [
    "The transformation matrix $W$ is used to construct a circuit to prepare an eigenvector of the Hamiltonian. The circuit is constructed using the `FermionicGaussianState` class. Currently, only the [Jordan-Wigner Transform](https://qiskit.org/documentation/nature/stubs/qiskit_nature.second_q.mappers.JordanWignerMapper.html)\n",
    "is supported. The circuit for the Jordan-Wigner Transform has linear depth and uses only linear qubit connectivity. The algorithm is from [Phys. Rev. Applied 9, 044036](https://journals.aps.org/prapplied/abstract/10.1103/PhysRevApplied.9.044036)."
   ]
  },
  {
   "cell_type": "code",
   "execution_count": null,
   "id": "ef228c33-90d3-4fe7-a5f9-d42438aa559b",
   "metadata": {},
   "outputs": [],
   "source": [
    "from qiskit_nature.second_q.circuit.library import FermionicGaussianState\n",
    "\n",
    "occupied_orbitals = (0, 2)\n",
    "eig = np.sum(orbital_energies[list(occupied_orbitals)]) + transformed_constant\n",
    "print(f\"Eigenvalue: {eig}\")\n",
    "\n",
    "circuit = FermionicGaussianState(transformation_matrix, occupied_orbitals=occupied_orbitals)\n",
    "circuit.draw(\"mpl\")"
   ]
  },
  {
   "cell_type": "markdown",
   "id": "ba6d59f6-8dcf-4fe9-b40d-7fde3221e7b2",
   "metadata": {},
   "source": [
    "The following code cell simulates the circuit and verifies that the output state is indeed an eigenstate of the Hamiltonian with the expected eigenvalue."
   ]
  },
  {
   "cell_type": "code",
   "execution_count": null,
   "id": "498b232d-dde7-4248-aa61-be56a2b59a2d",
   "metadata": {},
   "outputs": [],
   "source": [
    "from qiskit.quantum_info import Statevector\n",
    "from qiskit_nature.second_q.mappers import JordanWignerMapper\n",
    "\n",
    "# simulate the circuit to get the final state\n",
    "state = np.array(Statevector(circuit))\n",
    "\n",
    "# convert the Hamiltonian to a matrix\n",
    "hamiltonian_jw = JordanWignerMapper().map(hamiltonian_ferm).to_matrix()\n",
    "\n",
    "# check that the state is an eigenvector with the expected eigenvalue\n",
    "np.testing.assert_allclose(hamiltonian_jw @ state, eig * state, atol=1e-8)"
   ]
  },
  {
   "cell_type": "markdown",
   "id": "e7d2a25e-5f5c-44ae-9e19-ff980704ed3a",
   "metadata": {},
   "source": [
    "## Slater determinants\n",
    "\n",
    "When the antisymmetric part $\\Delta = 0$, then the Hamiltonian conserves the number of particles. In this case, the basis change only needs to mix creation operators, not annihilation operators:\n",
    "$$\n",
    "    \\begin{pmatrix}\n",
    "    b^\\dagger_1 \\\\\n",
    "    \\vdots \\\\\n",
    "    b^\\dagger_N \\\\\n",
    "    \\end{pmatrix}\n",
    "    = W\n",
    "    \\begin{pmatrix}\n",
    "    a^\\dagger_1 \\\\\n",
    "    \\vdots \\\\\n",
    "    a^\\dagger_N \\\\\n",
    "    \\end{pmatrix},\n",
    "$$\n",
    "where now $W$ is an $N \\times N$ matrix. Furthermore, the orbital energies $\\{\\varepsilon_j\\}$ are allowed to be negative."
   ]
  },
  {
   "cell_type": "code",
   "execution_count": null,
   "id": "3193749f-727d-407c-bc22-e0e4e1127a57",
   "metadata": {},
   "outputs": [],
   "source": [
    "# create Hamiltonian\n",
    "hermitian_part = np.array(\n",
    "    [\n",
    "        [1.0, 2.0, 0.0, 0.0],\n",
    "        [2.0, 1.0, 2.0, 0.0],\n",
    "        [0.0, 2.0, 1.0, 2.0],\n",
    "        [0.0, 0.0, 2.0, 1.0],\n",
    "    ]\n",
    ")\n",
    "constant = 4.0\n",
    "\n",
    "hamiltonian = QuadraticHamiltonian(\n",
    "    hermitian_part=hermitian_part,\n",
    "    constant=constant,\n",
    ")\n",
    "\n",
    "print(f\"Hamiltonian conserves particle number: {hamiltonian.conserves_particle_number()}\")"
   ]
  },
  {
   "cell_type": "code",
   "execution_count": null,
   "id": "46f07608-a62b-4530-bd27-447a08747f95",
   "metadata": {},
   "outputs": [],
   "source": [
    "# get the transformation matrix W and orbital energies {epsilon_j}\n",
    "(\n",
    "    transformation_matrix,\n",
    "    orbital_energies,\n",
    "    transformed_constant,\n",
    ") = hamiltonian.diagonalizing_bogoliubov_transform()\n",
    "\n",
    "print(f\"Shape of matrix W: {transformation_matrix.shape}\")\n",
    "print(f\"Orbital energies: {orbital_energies}\")\n",
    "print(f\"Transformed constant: {transformed_constant}\")"
   ]
  },
  {
   "cell_type": "markdown",
   "id": "c1c223ae-04cb-4851-a473-76b5368049d9",
   "metadata": {},
   "source": [
    "In this special case, the eigenstates are called Slater determinants, and a more efficient algorithm is used to prepare them. This algorithm is accessed by using the `SlaterDeterminant` class instead of `FermionicGaussianState`. `SlaterDeterminant` does not take the occupied orbitals as input. Instead, the shape of the transformation matrix is allowed to vary. It should be an $\\eta \\times N$ matrix where $\\eta$ is the number of particles."
   ]
  },
  {
   "cell_type": "code",
   "execution_count": null,
   "id": "f9f232ea-81bb-472f-a3d4-8deacea65be4",
   "metadata": {
    "tags": [
     "nbsphinx-thumbnail"
    ]
   },
   "outputs": [],
   "source": [
    "from qiskit_nature.second_q.circuit.library import SlaterDeterminant\n",
    "\n",
    "occupied_orbitals = (0, 2)\n",
    "eig = np.sum(orbital_energies[list(occupied_orbitals)]) + transformed_constant\n",
    "print(f\"Eigenvalue: {eig}\")\n",
    "\n",
    "circuit = SlaterDeterminant(transformation_matrix[list(occupied_orbitals)])\n",
    "circuit.draw(\"mpl\")"
   ]
  },
  {
   "cell_type": "markdown",
   "id": "a37fe6fb-d960-408e-b3b3-da9c130884da",
   "metadata": {},
   "source": [
    "## Time evolution\n",
    "\n",
    "Time evolution under a quadratic Hamiltonian can be easily performed by changing into the diagonal basis of the Hamiltonian. The state preparation circuits shown above effect this basis change, but they are optimized for state preparation from a computational basis state (assumed to be the all zeros state), and they do not work on arbitrary states. The general unitary basis change which does work on arbitrary states is called the Bogoliubov transform, and it is also implemented in Qiskit Nature.\n",
    "\n",
    "The code block below demonstrates the use of the Bogoliubov transform to implement time evolution for a quadratic Hamiltonian."
   ]
  },
  {
   "cell_type": "code",
   "execution_count": null,
   "id": "229a7a9b-b7cc-429b-8df9-175251d7f363",
   "metadata": {
    "tags": []
   },
   "outputs": [],
   "source": [
    "from qiskit_nature.second_q.circuit.library import BogoliubovTransform\n",
    "from qiskit import QuantumCircuit, QuantumRegister\n",
    "from qiskit.quantum_info import random_hermitian, random_statevector, state_fidelity\n",
    "from scipy.linalg import expm\n",
    "\n",
    "# create Hamiltonian\n",
    "n_modes = 5\n",
    "hermitian_part = np.array(random_hermitian(n_modes))\n",
    "hamiltonian = QuadraticHamiltonian(hermitian_part=hermitian_part)\n",
    "\n",
    "# diagonalize Hamiltonian\n",
    "(\n",
    "    transformation_matrix,\n",
    "    orbital_energies,\n",
    "    _,\n",
    ") = hamiltonian.diagonalizing_bogoliubov_transform()\n",
    "\n",
    "# set simulation time and construct time evolution circuit\n",
    "time = 1.0\n",
    "register = QuantumRegister(n_modes)\n",
    "circuit = QuantumCircuit(register)\n",
    "bog_circuit = BogoliubovTransform(transformation_matrix)\n",
    "# change to the diagonal basis of the Hamiltonian\n",
    "circuit.append(bog_circuit.inverse(), register)\n",
    "# perform time evolution by applying z rotations\n",
    "for q, energy in zip(register, orbital_energies):\n",
    "    circuit.rz(-energy * time, q)\n",
    "# change back to the original basis\n",
    "circuit.append(bog_circuit, register)\n",
    "\n",
    "# simulate the circuit\n",
    "initial_state = random_statevector(2**n_modes)\n",
    "final_state = initial_state.evolve(circuit)\n",
    "\n",
    "# compute the correct state by direct exponentiation\n",
    "hamiltonian_jw = JordanWignerMapper().map(hamiltonian.second_q_op()).to_matrix()\n",
    "exact_evolution_op = expm(-1j * time * hamiltonian_jw)\n",
    "expected_state = exact_evolution_op @ np.array(initial_state)\n",
    "\n",
    "# check that the simulated state is correct\n",
    "fidelity = state_fidelity(final_state, expected_state)\n",
    "np.testing.assert_allclose(fidelity, 1.0, atol=1e-8)"
   ]
  },
  {
   "cell_type": "code",
   "execution_count": null,
   "id": "bc169d46-52c0-4852-a6db-73c0e56d37f6",
   "metadata": {},
   "outputs": [],
   "source": [
    "import qiskit.tools.jupyter\n",
    "\n",
    "%qiskit_version_table\n",
    "%qiskit_copyright"
   ]
  },
  {
   "cell_type": "code",
   "execution_count": null,
   "id": "0c7d00da",
   "metadata": {},
   "outputs": [],
   "source": []
  }
 ],
 "metadata": {
  "kernelspec": {
   "display_name": "qiskit-nature",
   "language": "python",
   "name": "python3"
  },
  "language_info": {
   "codemirror_mode": {
    "name": "ipython",
    "version": 3
   },
   "file_extension": ".py",
   "mimetype": "text/x-python",
   "name": "python",
   "nbconvert_exporter": "python",
   "pygments_lexer": "ipython3",
   "version": "3.10.12"
  }
 },
 "nbformat": 4,
 "nbformat_minor": 5
}
