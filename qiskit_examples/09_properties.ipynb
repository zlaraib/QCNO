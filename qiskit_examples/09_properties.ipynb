{
 "cells": [
  {
   "cell_type": "markdown",
   "id": "57eb5237",
   "metadata": {},
   "source": [
    "# Properties - or - Operator Factories\n",
    "\n",
    "Qiskit Nature has various built-in \"properties\". These objects are effectively operator factories, since they allow the programming of operator blueprints based on a minimal set of required information. Some commonly used examples are the `ParticleNumber`, `AngularMomentum` and `Magnetization` properties, all of which take only the system size as their only input, and generate a `SparseLabelOp` of the required size.\n",
    "\n",
    "These properties can be registered in a `problem` instance which will cause them to be evaluated once a ground state and/or excited states of that problem have been found. In the following, we will explain the general concept of how this works."
   ]
  },
  {
   "cell_type": "markdown",
   "id": "51181e65",
   "metadata": {},
   "source": [
    "The `BaseProblem` base class dictates the existence of the `.properties` attribute on any `problem` instance. This attribute is of type `PropertiesContainer` which is an object that can hold at most one instance of any `SparseLabelOpsFactory` (or property class, as we commonly refer to them)."
   ]
  },
  {
   "cell_type": "code",
   "execution_count": null,
   "id": "133a097e",
   "metadata": {},
   "outputs": [],
   "source": [
    "from qiskit_nature.second_q.problems import BaseProblem\n",
    "\n",
    "dummy_hamiltonian = None\n",
    "\n",
    "base_problem = BaseProblem(dummy_hamiltonian)\n",
    "print(base_problem.properties)"
   ]
  },
  {
   "cell_type": "markdown",
   "id": "3d76c0f7",
   "metadata": {},
   "source": [
    "You can now modify the contents of the `PropertiesContainer` to your desire:"
   ]
  },
  {
   "cell_type": "code",
   "execution_count": null,
   "id": "fb1d2956",
   "metadata": {},
   "outputs": [],
   "source": [
    "from qiskit_nature.second_q.properties import AngularMomentum\n",
    "\n",
    "print(\"AngularMomentum is in problem.properties:\", AngularMomentum in base_problem.properties)\n",
    "\n",
    "print(\"Adding AngularMomentum to problem.properties...\")\n",
    "base_problem.properties.add(AngularMomentum(2))\n",
    "\n",
    "print(\"AngularMomentum is in problem.properties:\", AngularMomentum in base_problem.properties)\n",
    "\n",
    "print(\"Discarding AngularMomentum from problem.properties...\")\n",
    "base_problem.properties.discard(AngularMomentum)\n",
    "\n",
    "print(\"AngularMomentum is in problem.properties:\", AngularMomentum in base_problem.properties)"
   ]
  },
  {
   "cell_type": "markdown",
   "id": "4b72239b",
   "metadata": {},
   "source": [
    "The specific subclasses of `BaseProblem` for the various stacks such as [electronic structure](01_electronic_structure.ipynb), [vibrational structure](02_vibrational_structure.ipynb) or [lattice models](10_lattice_models.ipynb) make things even simpler for you, because they provide direct attributes for the built-in properties of Qiskit Nature:"
   ]
  },
  {
   "cell_type": "code",
   "execution_count": null,
   "id": "6c251832",
   "metadata": {
    "scrolled": true
   },
   "outputs": [],
   "source": [
    "from qiskit_nature.second_q.drivers import PySCFDriver\n",
    "\n",
    "es_problem = PySCFDriver().run()\n",
    "\n",
    "print(es_problem.properties.particle_number)\n",
    "print(es_problem.properties.angular_momentum)\n",
    "print(es_problem.properties.magnetization)\n",
    "print(es_problem.properties.electronic_dipole_moment)\n",
    "print(es_problem.properties.electronic_density)"
   ]
  },
  {
   "cell_type": "markdown",
   "id": "e4d31d28",
   "metadata": {},
   "source": [
    "> Note that the `ElectronicDipoleMoment` is populated by default. To exclude it, you can use the drivers `to_problem()` method and provide the `include_dipole=False` keyword argument. Refer to the drivers documentation for more details."
   ]
  },
  {
   "cell_type": "markdown",
   "id": "4dca06da",
   "metadata": {},
   "source": [
    "You can see, that all properties come pre-populated except for the `ElectronicDensity`. But this is easy to add:"
   ]
  },
  {
   "cell_type": "code",
   "execution_count": null,
   "id": "a6d0dd11",
   "metadata": {},
   "outputs": [],
   "source": [
    "from qiskit_nature.second_q.properties import ElectronicDensity\n",
    "\n",
    "density = ElectronicDensity.from_orbital_occupation(\n",
    "    es_problem.orbital_occupations,\n",
    "    es_problem.orbital_occupations_b,\n",
    ")\n",
    "\n",
    "es_problem.properties.electronic_density = density"
   ]
  },
  {
   "cell_type": "markdown",
   "id": "44893a7d",
   "metadata": {},
   "source": [
    "The same concepts apply to the `VibrationalStructureProblem` and the `LatticeModelProblem`."
   ]
  },
  {
   "cell_type": "code",
   "execution_count": null,
   "id": "7d02742f",
   "metadata": {},
   "outputs": [],
   "source": [
    "import qiskit.tools.jupyter\n",
    "\n",
    "%qiskit_version_table\n",
    "%qiskit_copyright"
   ]
  },
  {
   "cell_type": "code",
   "execution_count": null,
   "id": "9bb3874d",
   "metadata": {},
   "outputs": [],
   "source": []
  }
 ],
 "metadata": {
  "kernelspec": {
   "display_name": "Python 3",
   "language": "python",
   "name": "python3"
  },
  "language_info": {
   "codemirror_mode": {
    "name": "ipython",
    "version": 3
   },
   "file_extension": ".py",
   "mimetype": "text/x-python",
   "name": "python",
   "nbconvert_exporter": "python",
   "pygments_lexer": "ipython3",
   "version": "3.10.12"
  }
 },
 "nbformat": 4,
 "nbformat_minor": 5
}
