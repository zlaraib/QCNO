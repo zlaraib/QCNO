{
 "cells": [
  {
   "cell_type": "code",
   "execution_count": null,
   "id": "54302c12",
   "metadata": {},
   "outputs": [],
   "source": [
    "import numpy as np\n",
    "\n",
    "# Import Qiskit\n",
    "from qiskit import QuantumCircuit\n",
    "from qiskit import Aer, transpile\n",
    "from qiskit.tools.visualization import plot_histogram, plot_state_city\n",
    "import qiskit.quantum_info as qi"
   ]
  },
  {
   "cell_type": "code",
   "execution_count": null,
   "id": "d0afd03d",
   "metadata": {},
   "outputs": [],
   "source": [
    "Aer.backends()"
   ]
  },
  {
   "cell_type": "code",
   "execution_count": null,
   "id": "b0c024a0",
   "metadata": {},
   "outputs": [],
   "source": [
    "simulator = Aer.get_backend('aer_simulator')"
   ]
  },
  {
   "cell_type": "code",
   "execution_count": null,
   "id": "6013c6eb",
   "metadata": {},
   "outputs": [],
   "source": [
    "# Create circuit\n",
    "# Quantum Circuit named circ is created with 2 quantum bits (qubits).\n",
    "# This circuit will be used for quantum operations and measurements.\n",
    "circ = QuantumCircuit(2)\n",
    "# The H-gate is applied to the first qubit (qubit 0).\n",
    "# The H-gate is a quantum gate that creates superposition\n",
    "circ.h(0)\n",
    "# The CX-gate, also known as the CNOT gate, is applied with qubit 0 as \n",
    "# the control qubit and qubit 1 as the target qubit to perform conditional operations.\n",
    "circ.cx(0, 1)\n",
    "print(circ)\n",
    "# Measuring All Qubits\n",
    "circ.measure_all()\n",
    "\n",
    "# selecting a quantum simulator named aer_simulator using the Aer backend\n",
    "simulator = Aer.get_backend('aer_simulator')\n",
    "# Transpile for simulator\n",
    "# The transpile function is used to optimize and prepare the circuit for execution on the selected simulator\n",
    "circ = transpile(circ, simulator)\n",
    "\n",
    "# Run and get Measurement counts\n",
    "result = simulator.run(circ).result()\n",
    "counts = result.get_counts(circ)\n",
    "# This histogram represents the probability distribution of measurement outcomes for the quantum circuit. \n",
    "plot_histogram(counts, title='Bell-State counts')"
   ]
  },
  {
   "cell_type": "code",
   "execution_count": null,
   "id": "881a65fb",
   "metadata": {
    "scrolled": false
   },
   "outputs": [],
   "source": [
    "# Run and get memory\n",
    "result = simulator.run(circ, shots=10, memory=True).result()\n",
    "memory = result.get_memory(circ)\n",
    "print(memory)"
   ]
  },
  {
   "cell_type": "code",
   "execution_count": null,
   "id": "5c02a244",
   "metadata": {},
   "outputs": [],
   "source": [
    "# Increase shots to reduce sampling variance\n",
    "shots = 10000\n",
    "\n",
    "# Stabilizer simulation method\n",
    "sim_stabilizer = Aer.get_backend('aer_simulator_stabilizer')\n",
    "job_stabilizer = sim_stabilizer.run(circ, shots=shots)\n",
    "counts_stabilizer = job_stabilizer.result().get_counts(0)\n",
    "\n",
    "# Statevector simulation method\n",
    "sim_statevector = Aer.get_backend('aer_simulator_statevector')\n",
    "job_statevector = sim_statevector.run(circ, shots=shots)\n",
    "counts_statevector = job_statevector.result().get_counts(0)\n",
    "\n",
    "# Density Matrix simulation method\n",
    "sim_density = Aer.get_backend('aer_simulator_density_matrix')\n",
    "job_density = sim_density.run(circ, shots=shots)\n",
    "counts_density = job_density.result().get_counts(0)\n",
    "\n",
    "# Matrix Product State simulation method\n",
    "sim_mps = Aer.get_backend('aer_simulator_matrix_product_state')\n",
    "job_mps = sim_mps.run(circ, shots=shots)\n",
    "counts_mps = job_mps.result().get_counts(0)\n",
    "\n",
    "plot_histogram([counts_stabilizer, counts_statevector, counts_density, counts_mps],\n",
    "               title='Counts for different simulation methods',\n",
    "               legend=['stabilizer', 'statevector',\n",
    "                       'density_matrix', 'matrix_product_state'])"
   ]
  },
  {
   "cell_type": "code",
   "execution_count": null,
   "id": "3212e7b3",
   "metadata": {},
   "outputs": [],
   "source": [
    "from qiskit_aer import AerError\n",
    "\n",
    "# Initialize a GPU backend\n",
    "# Note that the cloud instance for tutorials does not have a GPU\n",
    "# so this will raise an exception.\n",
    "try:\n",
    "    simulator_gpu = Aer.get_backend('aer_simulator')\n",
    "    simulator_gpu.set_options(device='GPU')\n",
    "except AerError as e:\n",
    "    print(e)"
   ]
  },
  {
   "cell_type": "code",
   "execution_count": null,
   "id": "440b287d",
   "metadata": {},
   "outputs": [],
   "source": [
    "# Configure a single-precision statevector simulator backend\n",
    "simulator = Aer.get_backend('aer_simulator_statevector')\n",
    "simulator.set_options(precision='single')\n",
    "\n",
    "# Run and get counts\n",
    "result = simulator.run(circ).result()\n",
    "counts = result.get_counts(circ)\n",
    "print(counts)"
   ]
  },
  {
   "cell_type": "code",
   "execution_count": null,
   "id": "f59bf18d",
   "metadata": {},
   "outputs": [],
   "source": [
    "# Construct quantum circuit without measure\n",
    "circ = QuantumCircuit(2)\n",
    "circ.h(0)\n",
    "circ.cx(0, 1)\n",
    "circ.save_statevector()\n",
    "\n",
    "# Transpile for simulator\n",
    "simulator = Aer.get_backend('aer_simulator')\n",
    "circ = transpile(circ, simulator)\n",
    "\n",
    "# Run and get statevector\n",
    "result = simulator.run(circ).result()\n",
    "statevector = result.get_statevector(circ)\n",
    "plot_state_city(statevector, title='Bell state')"
   ]
  },
  {
   "cell_type": "code",
   "execution_count": null,
   "id": "013a2e2a",
   "metadata": {},
   "outputs": [],
   "source": [
    "# Construct quantum circuit without measure\n",
    "circ = QuantumCircuit(2)\n",
    "circ.h(0)\n",
    "circ.cx(0, 1)\n",
    "circ.save_unitary()\n",
    "\n",
    "# Transpile for simulator\n",
    "simulator = Aer.get_backend('aer_simulator')\n",
    "circ = transpile(circ, simulator)\n",
    "\n",
    "# Run and get unitary\n",
    "result = simulator.run(circ).result()\n",
    "unitary = result.get_unitary(circ)\n",
    "print(\"Circuit unitary:\\n\", np.asarray(unitary).round(5))"
   ]
  },
  {
   "cell_type": "code",
   "execution_count": null,
   "id": "cdb6aa89",
   "metadata": {},
   "outputs": [],
   "source": [
    "# Construct quantum circuit without measure\n",
    "steps = 5\n",
    "circ = QuantumCircuit(1)\n",
    "for i in range(steps):\n",
    "    circ.save_statevector(label=f'psi_{i}')\n",
    "    circ.rx(i * np.pi / steps, 0)\n",
    "circ.save_statevector(label=f'psi_{steps}')\n",
    "\n",
    "# Transpile for simulator\n",
    "simulator = Aer.get_backend('aer_simulator')\n",
    "circ = transpile(circ, simulator)\n",
    "\n",
    "# Run and get saved data\n",
    "result = simulator.run(circ).result()\n",
    "data = result.data(0)\n",
    "data"
   ]
  },
  {
   "cell_type": "code",
   "execution_count": null,
   "id": "ded3d333",
   "metadata": {},
   "outputs": [],
   "source": [
    "# Generate a random statevector\n",
    "num_qubits = 2\n",
    "psi = qi.random_statevector(2 ** num_qubits, seed=100)\n",
    "\n",
    "# Set initial state to generated statevector\n",
    "circ = QuantumCircuit(num_qubits)\n",
    "circ.set_statevector(psi)\n",
    "circ.save_state()\n",
    "\n",
    "# Transpile for simulator\n",
    "simulator = Aer.get_backend('aer_simulator')\n",
    "circ = transpile(circ, simulator)\n",
    "\n",
    "# Run and get saved data\n",
    "result = simulator.run(circ).result()\n",
    "result.data(0)"
   ]
  },
  {
   "cell_type": "code",
   "execution_count": null,
   "id": "c725130a",
   "metadata": {},
   "outputs": [],
   "source": [
    "# Use initilize instruction to set initial state\n",
    "circ = QuantumCircuit(num_qubits)\n",
    "circ.initialize(psi, range(num_qubits))\n",
    "circ.save_state()\n",
    "\n",
    "# Transpile for simulator\n",
    "simulator = Aer.get_backend('aer_simulator')\n",
    "circ = transpile(circ, simulator)\n",
    "\n",
    "# Run and get result data\n",
    "result = simulator.run(circ).result()\n",
    "result.data(0)\n"
   ]
  },
  {
   "cell_type": "code",
   "execution_count": null,
   "id": "21a817d0",
   "metadata": {},
   "outputs": [],
   "source": [
    "num_qubits = 2\n",
    "rho = qi.random_density_matrix(2 ** num_qubits, seed=100)\n",
    "circ = QuantumCircuit(num_qubits)\n",
    "circ.set_density_matrix(rho)\n",
    "circ.save_state()\n",
    "\n",
    "# Transpile for simulator\n",
    "simulator = Aer.get_backend('aer_simulator')\n",
    "circ = transpile(circ, simulator)\n",
    "\n",
    "# Run and get saved data\n",
    "result = simulator.run(circ).result()\n",
    "result.data(0)\n"
   ]
  },
  {
   "cell_type": "code",
   "execution_count": null,
   "id": "a8e73a9f",
   "metadata": {},
   "outputs": [],
   "source": [
    "# Generate a random Clifford C\n",
    "num_qubits = 2\n",
    "stab = qi.random_clifford(num_qubits, seed=100)\n",
    "\n",
    "# Set initial state to stabilizer state C|0>\n",
    "circ = QuantumCircuit(num_qubits)\n",
    "circ.set_stabilizer(stab)\n",
    "circ.save_state()\n",
    "\n",
    "# Transpile for simulator\n",
    "simulator = Aer.get_backend('aer_simulator')\n",
    "circ = transpile(circ, simulator)\n",
    "\n",
    "# Run and get saved data\n",
    "result = simulator.run(circ).result()\n",
    "result.data(0)"
   ]
  },
  {
   "cell_type": "code",
   "execution_count": null,
   "id": "27ef00d7",
   "metadata": {},
   "outputs": [],
   "source": [
    "# Generate a random unitary\n",
    "num_qubits = 2\n",
    "unitary = qi.random_unitary(2 ** num_qubits, seed=100)\n",
    "\n",
    "# Set initial state to unitary\n",
    "circ = QuantumCircuit(num_qubits)\n",
    "circ.set_unitary(unitary)\n",
    "circ.save_state()\n",
    "\n",
    "# Transpile for simulator\n",
    "simulator = Aer.get_backend('aer_simulator')\n",
    "circ = transpile(circ, simulator)\n",
    "\n",
    "# Run and get saved data\n",
    "result = simulator.run(circ).result()\n",
    "result.data(0)"
   ]
  },
  {
   "cell_type": "code",
   "execution_count": null,
   "id": "dba2edf2",
   "metadata": {},
   "outputs": [],
   "source": [
    "import qiskit.tools.jupyter\n",
    "%qiskit_version_table\n",
    "%qiskit_copyright"
   ]
  },
  {
   "cell_type": "code",
   "execution_count": null,
   "id": "1692ede9",
   "metadata": {},
   "outputs": [],
   "source": []
  },
  {
   "cell_type": "code",
   "execution_count": null,
   "id": "dcaa0a63",
   "metadata": {},
   "outputs": [],
   "source": []
  },
  {
   "cell_type": "code",
   "execution_count": null,
   "id": "f9a7d62d",
   "metadata": {},
   "outputs": [],
   "source": []
  }
 ],
 "metadata": {
  "kernelspec": {
   "display_name": "Python 3 (ipykernel)",
   "language": "python",
   "name": "python3"
  },
  "language_info": {
   "codemirror_mode": {
    "name": "ipython",
    "version": 3
   },
   "file_extension": ".py",
   "mimetype": "text/x-python",
   "name": "python",
   "nbconvert_exporter": "python",
   "pygments_lexer": "ipython3",
   "version": "3.10.12"
  }
 },
 "nbformat": 4,
 "nbformat_minor": 5
}
