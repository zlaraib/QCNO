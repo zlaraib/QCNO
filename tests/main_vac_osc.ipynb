{
 "cells": [
  {
   "cell_type": "code",
   "execution_count": 1,
   "metadata": {
    "metadata": {}
   },
   "outputs": [],
   "source": [
    "# main_vac_osc script \n",
    "\n",
    "import numpy as np\n",
    "import matplotlib.pyplot as plt\n",
    "from scipy.linalg import expm\n",
    "from qiskit_aer import AerSimulator\n",
    "from qiskit.circuit import QuantumCircuit\n",
    "from qiskit.quantum_info import Pauli, Statevector, Operator, random_hermitian, SparsePauliOp\n",
    "\n",
    "import sys\n",
    "import os\n"
   ]
  },
  {
   "cell_type": "code",
   "execution_count": 2,
   "metadata": {
    "metadata": {}
   },
   "outputs": [
    {
     "data": {
      "text/plain": [
       "'1.1.1'"
      ]
     },
     "execution_count": 2,
     "metadata": {},
     "output_type": "execute_result"
    }
   ],
   "source": [
    "import qiskit \n",
    "qiskit.version.get_version_info() "
   ]
  },
  {
   "cell_type": "code",
   "execution_count": 3,
   "metadata": {
    "metadata": {}
   },
   "outputs": [
    {
     "data": {
      "text/plain": [
       "'0.25.0'"
      ]
     },
     "execution_count": 3,
     "metadata": {},
     "output_type": "execute_result"
    }
   ],
   "source": [
    "import qiskit_ibm_runtime \n",
    "qiskit_ibm_runtime .version.get_version_info() "
   ]
  },
  {
   "cell_type": "code",
   "execution_count": 4,
   "metadata": {
    "metadata": {}
   },
   "outputs": [],
   "source": [
    "# Determine the correct path for the 'src' directory\n",
    "if '__file__' in globals():\n",
    "    # Running as a script\n",
    "    src_dir = os.path.abspath(os.path.join(os.path.dirname(__file__), '..', 'src'))\n",
    "else:\n",
    "    # Running in an interactive environment like Jupyter Notebook\n",
    "    src_dir = os.path.abspath(os.path.join(os.getcwd(), '..', 'src'))\n",
    "\n",
    "sys.path.append(src_dir)\n",
    "\n",
    "from hamiltonian import construct_hamiltonian\n",
    "from evolve import evolve_and_measure_circuit\n",
    "from constants import hbar, c , eV, MeV, GeV, G_F, kB"
   ]
  },
  {
   "cell_type": "code",
   "execution_count": 5,
   "metadata": {
    "metadata": {}
   },
   "outputs": [],
   "source": [
    "\n",
    "def initialize_parameters():\n",
    "    N_sites = 4  # Number of qubits\n",
    "    delta_m_squared = np.pi\n",
    "    omega_a = np.full(N_sites // 2, delta_m_squared)\n",
    "    omega_b = np.full(N_sites // 2, delta_m_squared)\n",
    "    omega = np.concatenate((omega_a, omega_b))\n",
    "    shots = 1024\n",
    "    backend = AerSimulator(method='automatic')\n",
    "    tolerance = 5e-1\n",
    "    τ = 0.05  # Time step\n",
    "    ttotal = 10  # Total time\n",
    "    times = np.arange(0, ttotal, τ)  # Define time steps\n",
    "    Δx = 1E-3 # length of the box of interacting neutrinos at a site in cm #variable\n",
    "    L = 1 # cm # not being used in this test but defined to keep the evolve function arguments consistent.\n",
    "    Δp = L # width of shape function # not being used in this test but defined to keep the evolve function arguments consistent.\n",
    "    t1 = 0.0084003052 #choose initial time for growth rate calculation #variable, not being used in this test\n",
    "    t2 = 0.011700318 #choose final time for growth rate calculation #variable, not being used in this test\n",
    "    theta_nu = np.pi / 4  # mixing_angle in radians\n",
    "    # Initialize an array of zeros for all N_sites particles\n",
    "    mu = np.zeros(N_sites)\n",
    "\n",
    "    # Create an array of dimension N and fill it with the value 1/(sqrt(2) * G_F). This is the number of neutrinos.\n",
    "    N = np.full(N_sites, (Δx**3) / (np.sqrt(2) * G_F))\n",
    "\n",
    "    # Create a B vector which would be same for all N particles\n",
    "    B = np.array([np.sin(2 * theta_nu), 0, -np.cos(2 * theta_nu)])\n",
    "    B = B / np.linalg.norm(B)\n",
    "\n",
    "    # Generate x, y, and z arrays\n",
    "    x = np.random.rand(N_sites)\n",
    "    y = np.random.rand(N_sites)\n",
    "    z = np.zeros(N_sites)\n",
    "\n",
    "    # Generate an Nx3 array for p with ones as values\n",
    "    p = np.ones((N_sites, 3))\n",
    "\n",
    "    # All of the sites are neutrinos, energy_sign array\n",
    "    energy_sign = np.ones(N_sites)\n",
    "    #modify this shape_name dict thing\n",
    "    shape_name = 1  # variable.  #Select a shape function based on the shape_name variable form the list defined in dictionary in shape_func file\n",
    "\n",
    "\n",
    "    return N_sites, theta_nu, omega, B, N, x, p, energy_sign, Δx, Δp, L, delta_m_squared, shape_name , shots, backend, tolerance, τ, times\n",
    "\n"
   ]
  },
  {
   "cell_type": "code",
   "execution_count": 6,
   "metadata": {
    "metadata": {}
   },
   "outputs": [],
   "source": [
    "# def simulate(times, omega, N_sites, H, backend, shots, τ, tolerance):\n",
    "def simulate(times, omega, N_sites, pauli_terms, backend, shots, τ, tolerance):\n",
    "    sigma_z_values = []\n",
    "    expected_sz_array = []\n",
    "\n",
    "    for t in times:\n",
    "        expected_sz = [-1 * np.cos(omega_i * t) for omega_i in omega]\n",
    "        expected_sz_array.append(np.mean(expected_sz) if expected_sz else None)\n",
    "        qc = evolve_and_measure_circuit(t, pauli_terms, N_sites)\n",
    "        # qc = evolve_and_measure_circuit(t, H, N_sites)\n",
    "        job = backend.run(qc, shots=shots)\n",
    "        result = job.result()\n",
    "        counts = result.get_counts(qc)\n",
    "\n",
    "        \n",
    "        # Calculate expectation value of sigma_z for the first qubit\n",
    "        sigma_z = 0\n",
    "        for outcome, count in counts.items():\n",
    "            if outcome[0] == '0':\n",
    "                sigma_z += count / shots\n",
    "            else:\n",
    "                sigma_z -= count / shots\n",
    "        sigma_z_values.append(sigma_z)\n",
    " \n",
    "    \n",
    "    assert all(abs(np.array(sigma_z_values) - np.array(expected_sz_array)) < tolerance), \"Assertion failed: values differ more than tolerance\"\n",
    "\n",
    "    return sigma_z_values, expected_sz_array"
   ]
  },
  {
   "cell_type": "code",
   "execution_count": 7,
   "metadata": {
    "metadata": {}
   },
   "outputs": [],
   "source": [
    "\n",
    "def plot_results(times, sigma_z_values, expected_sz_array, N_sites):\n",
    "    plt.plot(times, sigma_z_values, label='Simulated $\\sigma_z$')\n",
    "    plt.plot(times, expected_sz_array, label='Expected $\\sigma_z$', linestyle='--')\n",
    "    plt.xlabel('Time')\n",
    "    plt.ylabel('$\\sigma_z$')\n",
    "    plt.title(f'$\\sigma_z$ vs Time ({N_sites} Qubits, $H_{{vac}}$ Term)')\n",
    "    plt.legend(loc=\"upper right\")\n",
    "    plt.grid(True)\n",
    "    plt.show()"
   ]
  },
  {
   "cell_type": "code",
   "execution_count": 8,
   "metadata": {
    "metadata": {}
   },
   "outputs": [],
   "source": [
    "\n",
    "def main():\n",
    "    N_sites, theta_nu, omega, B, N, x, p, energy_sign, Δx, Δp, L, delta_m_squared, shape_name , shots, backend, tolerance, τ, times= initialize_parameters()\n",
    "    pauli_terms = construct_hamiltonian(N, omega, B, N_sites, Δx, delta_m_squared, p, x, Δp, theta_nu, shape_name, L, τ, energy_sign)\n",
    "    sigma_z_values, expected_sz_array = simulate(times, omega, N_sites, pauli_terms, backend, shots, τ, tolerance)\n",
    "    # H = construct_hamiltonian(N, omega, B, N_sites, Δx, delta_m_squared, p, x, Δp, theta_nu, shape_name, L, τ, energy_sign)\n",
    "    # sigma_z_values, expected_sz_array = simulate(times, omega, N_sites, H, backend, shots, τ, tolerance)\n",
    "    plot_results(times, sigma_z_values, expected_sz_array, N_sites)"
   ]
  },
  {
   "cell_type": "code",
   "execution_count": 9,
   "metadata": {
    "metadata": {}
   },
   "outputs": [],
   "source": [
    "if __name__ == \"__main__\":\n",
    "    main()\n"
   ]
  },
  {
   "cell_type": "code",
   "execution_count": null,
   "metadata": {},
   "outputs": [],
   "source": []
  },
  {
   "cell_type": "code",
   "execution_count": null,
   "metadata": {},
   "outputs": [],
   "source": []
  }
 ],
 "metadata": {
  "kernelspec": {
   "display_name": "Python (myenv)",
   "language": "python",
   "name": "myenv"
  },
  "language_info": {
   "codemirror_mode": {
    "name": "ipython",
    "version": 3
   },
   "file_extension": ".py",
   "mimetype": "text/x-python",
   "name": "python",
   "nbconvert_exporter": "python",
   "pygments_lexer": "ipython3",
   "version": "3.10.12"
  }
 },
 "nbformat": 4,
 "nbformat_minor": 2
}
