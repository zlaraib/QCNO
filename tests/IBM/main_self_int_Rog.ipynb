{
 "cells": [
  {
   "cell_type": "code",
   "execution_count": 1,
   "metadata": {
    "metadata": {}
   },
   "outputs": [],
   "source": [
    "import numpy as np\n",
    "import matplotlib.pyplot as plt\n",
    "from qiskit_ibm_runtime import QiskitRuntimeService\n",
    "from qiskit.transpiler.preset_passmanagers import generate_preset_pass_manager\n",
    "import sys\n",
    "import os\n"
   ]
  },
  {
   "cell_type": "code",
   "execution_count": 2,
   "metadata": {
    "metadata": {}
   },
   "outputs": [
    {
     "data": {
      "text/plain": [
       "'1.1.1'"
      ]
     },
     "execution_count": 2,
     "metadata": {},
     "output_type": "execute_result"
    }
   ],
   "source": [
    "import qiskit \n",
    "qiskit.version.get_version_info() "
   ]
  },
  {
   "cell_type": "code",
   "execution_count": 3,
   "metadata": {
    "metadata": {}
   },
   "outputs": [
    {
     "data": {
      "text/plain": [
       "'0.25.0'"
      ]
     },
     "execution_count": 3,
     "metadata": {},
     "output_type": "execute_result"
    }
   ],
   "source": [
    "import qiskit_ibm_runtime \n",
    "qiskit_ibm_runtime .version.get_version_info() "
   ]
  },
  {
   "cell_type": "code",
   "execution_count": 4,
   "metadata": {
    "metadata": {}
   },
   "outputs": [],
   "source": [
    "\n",
    "# Determine the correct path for the 'src' directory\n",
    "if '__file__' in globals():\n",
    "    # Running as a script\n",
    "    src_dir = os.path.abspath(os.path.join(os.path.dirname(__file__),'..', '..', 'src'))\n",
    "else:\n",
    "    # Running in an interactive environment like Jupyter Notebook\n",
    "    src_dir = os.path.abspath(os.path.join(os.getcwd(), '..', '..', 'src'))\n",
    "\n",
    "sys.path.append(src_dir)\n"
   ]
  },
  {
   "cell_type": "code",
   "execution_count": 5,
   "metadata": {
    "metadata": {}
   },
   "outputs": [],
   "source": [
    "\n",
    "\n",
    "from hamiltonian import construct_hamiltonian\n",
    "from evolve import evolve_and_measure_circuit\n",
    "from constants import hbar, c , eV, MeV, GeV, G_F, kB\n"
   ]
  },
  {
   "cell_type": "code",
   "execution_count": 6,
   "metadata": {
    "metadata": {}
   },
   "outputs": [],
   "source": [
    "\n",
    "def initialize_parameters():\n",
    "    N_sites = 4 # Number of qubits\n",
    "    delta_m_squared = 0 # change accordingly with the desired Rog fit reproduction below \n",
    "    omega_a = np.full(N_sites // 2, delta_m_squared)\n",
    "    omega_b = np.full(N_sites // 2, delta_m_squared)\n",
    "    omega = np.concatenate((omega_a, omega_b))\n",
    "    print(omega)\n",
    "    shots = 1000\n",
    "    # Define the service.  This allows you to access IBM Quantum systems.\n",
    "    service = QiskitRuntimeService()\n",
    "    # Get a backend\n",
    "    backend = service.least_busy(operational=True, simulator=False)\n",
    "    tolerance = 5e-1\n",
    "    τ = 0.05  # Time step\n",
    "    ttotal = 10  # Total time\n",
    "    times = np.arange(0, ttotal, τ)  # Define time steps\n",
    "    Δx = 1E-3 # length of the box of interacting neutrinos at a site in cm #variable\n",
    "    L = 1 # cm # not being used in this test but defined to keep the evolve function arguments consistent.\n",
    "    Δp = L # width of shape function # not being used in this test but defined to keep the evolve function arguments consistent.\n",
    "    t1 = 0.0084003052 #choose initial time for growth rate calculation #variable, not being used in this test\n",
    "    t2 = 0.011700318 #choose final time for growth rate calculation #variable, not being used in this test\n",
    "    theta_nu = 0 # mixing_angle #rad \n",
    "    # Initialize an array of zeros for all N_sites particles\n",
    "    # mu = np.ones(N_sites)\n",
    "    mu = 1\n",
    "    # Create an array of dimension N and fill it with the value 1/(sqrt(2) * G_F). This is the number of neutrinos.\n",
    "    N = mu * np.full(N_sites, (Δx**3) / (np.sqrt(2) * G_F *N_sites))\n",
    "\n",
    "    # Create a B vector which would be same for all N particles\n",
    "    B = np.array([np.sin(2 * theta_nu), 0, -np.cos(2 * theta_nu)])\n",
    "    B = B / np.linalg.norm(B)\n",
    "\n",
    "    # Generate x, y, and z arrays\n",
    "    x = np.random.rand(N_sites)\n",
    "    y = np.random.rand(N_sites)\n",
    "    z = np.zeros(N_sites)\n",
    "\n",
    "    # Generate an Nx3 array for p with all zeros\n",
    "    p = np.zeros((N_sites, 3))\n",
    "\n",
    "    # All of the sites are neutrinos, energy_sign array\n",
    "    energy_sign = np.ones(N_sites)\n",
    "    #modify this shape_name dict thing\n",
    "    shape_name = 1  # variable.  #Select a shape function based on the shape_name variable form the list defined in dictionary in shape_func file\n",
    "\n",
    "\n",
    "    return N_sites, theta_nu, omega, B, N, x, p, energy_sign, Δx, Δp, L, delta_m_squared, shape_name , shots, backend, tolerance, τ, times\n",
    "\n"
   ]
  },
  {
   "cell_type": "code",
   "execution_count": 7,
   "metadata": {
    "metadata": {}
   },
   "outputs": [],
   "source": [
    "\n",
    "def simulate(times, omega, N_sites, H, backend, shots, τ, tolerance):\n",
    "    # Simulation and expected value calculation\n",
    "    sigma_z_values = []\n",
    "    survival_probabilities = []\n",
    "\n",
    "    for t in times:\n",
    "        qc = evolve_and_measure_circuit(t, H, N_sites)\n",
    "        pm = generate_preset_pass_manager(backend=backend, optimization_level=1)\n",
    "        isa_circuit = pm.run(qc)\n",
    "        result = backend.run(isa_circuit, shots=shots).result()\n",
    "        counts = result.get_counts(isa_circuit)\n",
    "        \n",
    "        # Calculate expectation value of sigma_z for the first qubit\n",
    "        sigma_z = 0\n",
    "        for outcome, count in counts.items():\n",
    "            if outcome[0] == '0':\n",
    "                sigma_z += count / shots\n",
    "            else:\n",
    "                sigma_z -= count / shots\n",
    "        \n",
    "        # Calculate survival probability\n",
    "        survival_probability = (1 - sigma_z) / 2\n",
    "        print(f\"t: {t}, survival_probability: {survival_probability}\")\n",
    "        \n",
    "        # Append values to the respective lists\n",
    "        sigma_z_values.append(sigma_z)\n",
    "        survival_probabilities.append(survival_probability)\n",
    "\n",
    "    # # Create a spline of the survival probabilities\n",
    "    # spline = UnivariateSpline(times, survival_probabilities, s=0.03)\n",
    "    # survival_probabilities = spline(times) # smoothed survival_probabilities array\n",
    "    \n",
    "    def find_first_local_minima_index(arr):\n",
    "        n = len(arr)\n",
    "        for i in range(1, n - 1):\n",
    "            if arr[i] < arr[i - 1] and arr[i] < arr[i + 1]:\n",
    "                return i\n",
    "        return -1\n",
    "\n",
    "    # Index of the first minimum of the survival probabilities\n",
    "    i_first_local_min = find_first_local_minima_index(survival_probabilities)\n",
    "\n",
    "    # Writing if_else statement to communicate if local minima (not) found\n",
    "    if i_first_local_min != -1:\n",
    "        print(f\"Index of the first local minimum: {i_first_local_min}\")\n",
    "    else:\n",
    "        print(\"No local minimum found in the array.\")\n",
    "        \n",
    "        \n",
    "    # Time at which the first minimum survival probability is reached\n",
    "    t_min = τ * i_first_local_min\n",
    "    print(f\"Corresponding time of first minimum index= {t_min}\")\n",
    "\n",
    "    # Fixed Constants for Rogerro's fit (only self-interaction term)\n",
    "    a_t = 0\n",
    "    b_t = 2.105\n",
    "    c_t = 0\n",
    "    \n",
    "    t_p_Rog = a_t * np.log(N_sites) + b_t * np.sqrt(N_sites) + c_t\n",
    "    print(\"t_p_Rog= \", t_p_Rog)\n",
    "\n",
    "    # Assert condition\n",
    "    # assert abs(t_min - t_p_Rog) < τ + tolerance, \"The time of the first minimum survival probability is not within the expected range.\"\n",
    "\n",
    "    return sigma_z_values, survival_probabilities, t_min, t_p_Rog, i_first_local_min\n",
    "\n"
   ]
  },
  {
   "cell_type": "code",
   "execution_count": 8,
   "metadata": {
    "metadata": {}
   },
   "outputs": [],
   "source": [
    "def plot_results(times, sigma_z_values, survival_probabilities, N_sites, t_min, t_p_Rog, i_first_local_min):\n",
    "    # Plot the survival probability at site 1 against time\n",
    "    plt.plot(times, survival_probabilities, label='Survival Probability')\n",
    "    plt.xlabel('Time')\n",
    "    plt.ylabel('Survival Probability at site 1')\n",
    "    plt.title(f'Survival Probability at site 1 vs Time ({N_sites} Qubits, \\n $H_{{SI}}$ Term), All-to-All Interaction)')\n",
    "\n",
    "    # Add scatter point for Rogerro's fit\n",
    "    plt.scatter([t_p_Rog], [survival_probabilities[np.abs(times - t_p_Rog).argmin()]], color='red', label=\"t_p_Rog\", zorder=5)\n",
    "\n",
    "    # Add scatter point for the first local minimum\n",
    "    if i_first_local_min != -1:\n",
    "        plt.scatter([t_min], [survival_probabilities[np.abs(times - t_min).argmin()]], color='blue', label=\"First Local Min\", zorder=5)\n",
    "\n",
    "    plt.legend(loc=\"upper right\")\n",
    "    plt.grid(True)\n",
    "    plt.show()"
   ]
  },
  {
   "cell_type": "code",
   "execution_count": 9,
   "metadata": {
    "metadata": {}
   },
   "outputs": [],
   "source": [
    "    \n",
    "def main():\n",
    "    N_sites, theta_nu, omega, B, N, x, p, energy_sign, Δx, Δp, L, delta_m_squared, shape_name , shots, backend, tolerance, τ, times= initialize_parameters()\n",
    "    H = construct_hamiltonian(N, omega, B, N_sites, Δx, delta_m_squared, p, x, Δp, theta_nu, shape_name, L, τ, energy_sign)\n",
    "    sigma_z_values, survival_probabilities, t_min, t_p_Rog, i_first_local_min = simulate(times, omega, N_sites, H, backend, shots, τ, tolerance)\n",
    "    plot_results(times, sigma_z_values, survival_probabilities, N_sites, t_min, t_p_Rog, i_first_local_min)\n"
   ]
  },
  {
   "cell_type": "code",
   "execution_count": 10,
   "metadata": {
    "metadata": {}
   },
   "outputs": [
    {
     "name": "stdout",
     "output_type": "stream",
     "text": [
      "[0 0 0 0]\n"
     ]
    },
    {
     "name": "stderr",
     "output_type": "stream",
     "text": [
      "/home/zohalaraib/Quantinuum/src/momentum.py:15: RuntimeWarning: invalid value encountered in divide\n",
      "  p_i_hat = p[i, :] / p_i_mod\n",
      "/tmp/ipykernel_1826743/1402365213.py:10: DeprecationWarning: backend.run() and related sessions methods are deprecated  as of qiskit-ibm-runtime 0.23 and will be removed no sooner than 6 months after the release date. More details can be found in the primitives migration guide https://docs.quantum.ibm.com/api/migration-guides/qiskit-runtime.\n",
      "  result = backend.run(isa_circuit, shots=shots).result()\n"
     ]
    },
    {
     "name": "stdout",
     "output_type": "stream",
     "text": [
      "t: 0.0, survival_probability: 0.992\n",
      "t: 0.05, survival_probability: 0.497\n",
      "t: 0.1, survival_probability: 0.492\n",
      "t: 0.15000000000000002, survival_probability: 0.525\n",
      "t: 0.2, survival_probability: 0.504\n",
      "t: 0.25, survival_probability: 0.484\n",
      "t: 0.30000000000000004, survival_probability: 0.488\n",
      "t: 0.35000000000000003, survival_probability: 0.501\n",
      "t: 0.4, survival_probability: 0.508\n",
      "t: 0.45, survival_probability: 0.514\n",
      "t: 0.5, survival_probability: 0.502\n",
      "t: 0.55, survival_probability: 0.49\n",
      "t: 0.6000000000000001, survival_probability: 0.526\n",
      "t: 0.65, survival_probability: 0.496\n",
      "t: 0.7000000000000001, survival_probability: 0.524\n",
      "t: 0.75, survival_probability: 0.498\n",
      "t: 0.8, survival_probability: 0.502\n",
      "t: 0.8500000000000001, survival_probability: 0.525\n",
      "t: 0.9, survival_probability: 0.529\n",
      "t: 0.9500000000000001, survival_probability: 0.483\n",
      "t: 1.0, survival_probability: 0.512\n",
      "t: 1.05, survival_probability: 0.507\n",
      "t: 1.1, survival_probability: 0.517\n",
      "t: 1.1500000000000001, survival_probability: 0.481\n",
      "t: 1.2000000000000002, survival_probability: 0.501\n",
      "t: 1.25, survival_probability: 0.45499999999999996\n",
      "t: 1.3, survival_probability: 0.486\n",
      "t: 1.35, survival_probability: 0.473\n",
      "t: 1.4000000000000001, survival_probability: 0.478\n",
      "t: 1.4500000000000002, survival_probability: 0.45899999999999996\n",
      "t: 1.5, survival_probability: 0.491\n",
      "t: 1.55, survival_probability: 0.51\n",
      "t: 1.6, survival_probability: 0.505\n",
      "t: 1.6500000000000001, survival_probability: 0.507\n",
      "t: 1.7000000000000002, survival_probability: 0.505\n",
      "t: 1.75, survival_probability: 0.52\n",
      "t: 1.8, survival_probability: 0.541\n",
      "t: 1.85, survival_probability: 0.483\n",
      "t: 1.9000000000000001, survival_probability: 0.486\n",
      "t: 1.9500000000000002, survival_probability: 0.515\n",
      "t: 2.0, survival_probability: 0.497\n",
      "t: 2.0500000000000003, survival_probability: 0.505\n",
      "t: 2.1, survival_probability: 0.503\n",
      "t: 2.15, survival_probability: 0.525\n",
      "t: 2.2, survival_probability: 0.516\n",
      "t: 2.25, survival_probability: 0.509\n",
      "t: 2.3000000000000003, survival_probability: 0.476\n",
      "t: 2.35, survival_probability: 0.495\n",
      "t: 2.4000000000000004, survival_probability: 0.495\n",
      "t: 2.45, survival_probability: 0.475\n",
      "t: 2.5, survival_probability: 0.501\n",
      "t: 2.5500000000000003, survival_probability: 0.502\n",
      "t: 2.6, survival_probability: 0.484\n",
      "t: 2.6500000000000004, survival_probability: 0.526\n",
      "t: 2.7, survival_probability: 0.503\n",
      "t: 2.75, survival_probability: 0.48\n",
      "t: 2.8000000000000003, survival_probability: 0.481\n",
      "t: 2.85, survival_probability: 0.47\n",
      "t: 2.9000000000000004, survival_probability: 0.486\n",
      "t: 2.95, survival_probability: 0.502\n",
      "t: 3.0, survival_probability: 0.504\n",
      "t: 3.0500000000000003, survival_probability: 0.502\n",
      "t: 3.1, survival_probability: 0.486\n",
      "t: 3.1500000000000004, survival_probability: 0.507\n",
      "t: 3.2, survival_probability: 0.46499999999999997\n",
      "t: 3.25, survival_probability: 0.516\n",
      "t: 3.3000000000000003, survival_probability: 0.512\n",
      "t: 3.35, survival_probability: 0.517\n",
      "t: 3.4000000000000004, survival_probability: 0.493\n",
      "t: 3.45, survival_probability: 0.485\n",
      "t: 3.5, survival_probability: 0.495\n",
      "t: 3.5500000000000003, survival_probability: 0.528\n",
      "t: 3.6, survival_probability: 0.508\n",
      "t: 3.6500000000000004, survival_probability: 0.495\n",
      "t: 3.7, survival_probability: 0.486\n",
      "t: 3.75, survival_probability: 0.518\n",
      "t: 3.8000000000000003, survival_probability: 0.46399999999999997\n",
      "t: 3.85, survival_probability: 0.518\n",
      "t: 3.9000000000000004, survival_probability: 0.49\n",
      "t: 3.95, survival_probability: 0.505\n",
      "t: 4.0, survival_probability: 0.505\n",
      "t: 4.05, survival_probability: 0.499\n",
      "t: 4.1000000000000005, survival_probability: 0.511\n",
      "t: 4.15, survival_probability: 0.46499999999999997\n",
      "t: 4.2, survival_probability: 0.489\n",
      "t: 4.25, survival_probability: 0.504\n",
      "t: 4.3, survival_probability: 0.5\n",
      "t: 4.3500000000000005, survival_probability: 0.512\n",
      "t: 4.4, survival_probability: 0.49\n",
      "t: 4.45, survival_probability: 0.497\n",
      "t: 4.5, survival_probability: 0.52\n",
      "t: 4.55, survival_probability: 0.494\n",
      "t: 4.6000000000000005, survival_probability: 0.473\n",
      "t: 4.65, survival_probability: 0.487\n",
      "t: 4.7, survival_probability: 0.51\n",
      "t: 4.75, survival_probability: 0.513\n",
      "t: 4.800000000000001, survival_probability: 0.505\n",
      "t: 4.8500000000000005, survival_probability: 0.469\n",
      "t: 4.9, survival_probability: 0.491\n",
      "t: 4.95, survival_probability: 0.487\n",
      "t: 5.0, survival_probability: 0.486\n",
      "t: 5.050000000000001, survival_probability: 0.518\n",
      "t: 5.1000000000000005, survival_probability: 0.491\n",
      "t: 5.15, survival_probability: 0.507\n",
      "t: 5.2, survival_probability: 0.45799999999999996\n",
      "t: 5.25, survival_probability: 0.501\n",
      "t: 5.300000000000001, survival_probability: 0.486\n",
      "t: 5.3500000000000005, survival_probability: 0.483\n",
      "t: 5.4, survival_probability: 0.509\n",
      "t: 5.45, survival_probability: 0.513\n",
      "t: 5.5, survival_probability: 0.501\n",
      "t: 5.550000000000001, survival_probability: 0.479\n",
      "t: 5.6000000000000005, survival_probability: 0.538\n",
      "t: 5.65, survival_probability: 0.497\n",
      "t: 5.7, survival_probability: 0.476\n",
      "t: 5.75, survival_probability: 0.502\n",
      "t: 5.800000000000001, survival_probability: 0.494\n",
      "t: 5.8500000000000005, survival_probability: 0.523\n",
      "t: 5.9, survival_probability: 0.506\n",
      "t: 5.95, survival_probability: 0.51\n",
      "t: 6.0, survival_probability: 0.512\n",
      "t: 6.050000000000001, survival_probability: 0.531\n",
      "t: 6.1000000000000005, survival_probability: 0.508\n",
      "t: 6.15, survival_probability: 0.481\n",
      "t: 6.2, survival_probability: 0.516\n",
      "t: 6.25, survival_probability: 0.488\n",
      "t: 6.300000000000001, survival_probability: 0.496\n",
      "t: 6.3500000000000005, survival_probability: 0.494\n",
      "t: 6.4, survival_probability: 0.48\n",
      "t: 6.45, survival_probability: 0.531\n",
      "t: 6.5, survival_probability: 0.43100000000000005\n",
      "t: 6.550000000000001, survival_probability: 0.528\n",
      "t: 6.6000000000000005, survival_probability: 0.515\n",
      "t: 6.65, survival_probability: 0.534\n",
      "t: 6.7, survival_probability: 0.513\n",
      "t: 6.75, survival_probability: 0.507\n",
      "t: 6.800000000000001, survival_probability: 0.477\n",
      "t: 6.8500000000000005, survival_probability: 0.501\n",
      "t: 6.9, survival_probability: 0.505\n",
      "t: 6.95, survival_probability: 0.482\n",
      "t: 7.0, survival_probability: 0.517\n",
      "t: 7.050000000000001, survival_probability: 0.507\n",
      "t: 7.1000000000000005, survival_probability: 0.517\n",
      "t: 7.15, survival_probability: 0.539\n",
      "t: 7.2, survival_probability: 0.507\n",
      "t: 7.25, survival_probability: 0.5\n",
      "t: 7.300000000000001, survival_probability: 0.501\n",
      "t: 7.3500000000000005, survival_probability: 0.488\n",
      "t: 7.4, survival_probability: 0.508\n",
      "t: 7.45, survival_probability: 0.514\n",
      "t: 7.5, survival_probability: 0.5\n",
      "t: 7.550000000000001, survival_probability: 0.522\n",
      "t: 7.6000000000000005, survival_probability: 0.495\n",
      "t: 7.65, survival_probability: 0.45699999999999996\n",
      "t: 7.7, survival_probability: 0.533\n",
      "t: 7.75, survival_probability: 0.509\n",
      "t: 7.800000000000001, survival_probability: 0.491\n",
      "t: 7.8500000000000005, survival_probability: 0.511\n",
      "t: 7.9, survival_probability: 0.515\n",
      "t: 7.95, survival_probability: 0.482\n",
      "t: 8.0, survival_probability: 0.496\n",
      "t: 8.05, survival_probability: 0.53\n",
      "t: 8.1, survival_probability: 0.516\n",
      "t: 8.15, survival_probability: 0.48\n",
      "t: 8.200000000000001, survival_probability: 0.499\n",
      "t: 8.25, survival_probability: 0.481\n",
      "t: 8.3, survival_probability: 0.498\n",
      "t: 8.35, survival_probability: 0.506\n",
      "t: 8.4, survival_probability: 0.488\n",
      "t: 8.450000000000001, survival_probability: 0.492\n",
      "t: 8.5, survival_probability: 0.498\n",
      "t: 8.55, survival_probability: 0.489\n",
      "t: 8.6, survival_probability: 0.496\n",
      "t: 8.65, survival_probability: 0.527\n",
      "t: 8.700000000000001, survival_probability: 0.5\n",
      "t: 8.75, survival_probability: 0.509\n",
      "t: 8.8, survival_probability: 0.503\n",
      "t: 8.85, survival_probability: 0.45499999999999996\n",
      "t: 8.9, survival_probability: 0.498\n",
      "t: 8.950000000000001, survival_probability: 0.488\n",
      "t: 9.0, survival_probability: 0.497\n",
      "t: 9.05, survival_probability: 0.501\n",
      "t: 9.1, survival_probability: 0.46399999999999997\n",
      "t: 9.15, survival_probability: 0.511\n",
      "t: 9.200000000000001, survival_probability: 0.46199999999999997\n",
      "t: 9.25, survival_probability: 0.536\n",
      "t: 9.3, survival_probability: 0.531\n",
      "t: 9.35, survival_probability: 0.499\n",
      "t: 9.4, survival_probability: 0.513\n",
      "t: 9.450000000000001, survival_probability: 0.486\n",
      "t: 9.5, survival_probability: 0.48\n",
      "t: 9.55, survival_probability: 0.44599999999999995\n",
      "t: 9.600000000000001, survival_probability: 0.497\n",
      "t: 9.65, survival_probability: 0.536\n",
      "t: 9.700000000000001, survival_probability: 0.498\n",
      "t: 9.75, survival_probability: 0.493\n",
      "t: 9.8, survival_probability: 0.489\n",
      "t: 9.850000000000001, survival_probability: 0.515\n",
      "t: 9.9, survival_probability: 0.507\n",
      "t: 9.950000000000001, survival_probability: 0.526\n",
      "Index of the first local minimum: 2\n",
      "Corresponding time of first minimum index= 0.1\n",
      "t_p_Rog=  4.21\n"
     ]
    },
    {
     "data": {
      "image/png": "[encoded data removed]",
      "text/plain": [
       "<Figure size 640x480 with 1 Axes>"
      ]
     },
     "metadata": {},
     "output_type": "display_data"
    }
   ],
   "source": [
    "if __name__ == \"__main__\":\n",
    "    main()"
   ]
  },
  {
   "cell_type": "code",
   "execution_count": null,
   "metadata": {},
   "outputs": [],
   "source": []
  },
  {
   "cell_type": "code",
   "execution_count": null,
   "metadata": {},
   "outputs": [],
   "source": []
  }
 ],
 "metadata": {
  "kernelspec": {
   "display_name": "Python (myenv)",
   "language": "python",
   "name": "myenv"
  },
  "language_info": {
   "codemirror_mode": {
    "name": "ipython",
    "version": 3
   },
   "file_extension": ".py",
   "mimetype": "text/x-python",
   "name": "python",
   "nbconvert_exporter": "python",
   "pygments_lexer": "ipython3",
   "version": "3.10.12"
  }
 },
 "nbformat": 4,
 "nbformat_minor": 2
}
